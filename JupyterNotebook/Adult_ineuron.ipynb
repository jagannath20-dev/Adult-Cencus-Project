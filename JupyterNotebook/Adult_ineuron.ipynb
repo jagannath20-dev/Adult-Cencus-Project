{
 "cells": [
  {
   "cell_type": "markdown",
   "id": "9a4f1201",
   "metadata": {},
   "source": [
    "Problem Statement :\n",
    "    \n",
    "The Goal is to predict whether a person has an income of more than 50K a year or not.\n",
    "This is basically a binary classification problem where a person is classified into the >50K group or <=50K group."
   ]
  },
  {
   "cell_type": "code",
   "execution_count": 1,
   "id": "880ced1a",
   "metadata": {},
   "outputs": [],
   "source": [
    "import numpy as np\n",
    "import pandas as pd\n",
    "import matplotlib.pyplot as plt\n",
    "%matplotlib inline\n",
    "import warnings\n",
    "warnings.filterwarnings('ignore')\n",
    "import seaborn as sns"
   ]
  },
  {
   "cell_type": "code",
   "execution_count": 2,
   "id": "cb9e6676",
   "metadata": {},
   "outputs": [],
   "source": [
    "df = pd.read_csv(\"/Users/devarakondajagannath/Desktop/Datasets/adult.csv\")"
   ]
  },
  {
   "cell_type": "code",
   "execution_count": 3,
   "id": "3edbdd17",
   "metadata": {
    "scrolled": true
   },
   "outputs": [
    {
     "data": {
      "text/html": [
       "<div>\n",
       "<style scoped>\n",
       "    .dataframe tbody tr th:only-of-type {\n",
       "        vertical-align: middle;\n",
       "    }\n",
       "\n",
       "    .dataframe tbody tr th {\n",
       "        vertical-align: top;\n",
       "    }\n",
       "\n",
       "    .dataframe thead th {\n",
       "        text-align: right;\n",
       "    }\n",
       "</style>\n",
       "<table border=\"1\" class=\"dataframe\">\n",
       "  <thead>\n",
       "    <tr style=\"text-align: right;\">\n",
       "      <th></th>\n",
       "      <th>age</th>\n",
       "      <th>workclass</th>\n",
       "      <th>fnlwgt</th>\n",
       "      <th>education</th>\n",
       "      <th>education-num</th>\n",
       "      <th>marital-status</th>\n",
       "      <th>occupation</th>\n",
       "      <th>relationship</th>\n",
       "      <th>race</th>\n",
       "      <th>sex</th>\n",
       "      <th>capital-gain</th>\n",
       "      <th>capital-loss</th>\n",
       "      <th>hours-per-week</th>\n",
       "      <th>country</th>\n",
       "      <th>salary</th>\n",
       "    </tr>\n",
       "  </thead>\n",
       "  <tbody>\n",
       "    <tr>\n",
       "      <th>0</th>\n",
       "      <td>39</td>\n",
       "      <td>State-gov</td>\n",
       "      <td>77516</td>\n",
       "      <td>Bachelors</td>\n",
       "      <td>13</td>\n",
       "      <td>Never-married</td>\n",
       "      <td>Adm-clerical</td>\n",
       "      <td>Not-in-family</td>\n",
       "      <td>White</td>\n",
       "      <td>Male</td>\n",
       "      <td>2174</td>\n",
       "      <td>0</td>\n",
       "      <td>40</td>\n",
       "      <td>United-States</td>\n",
       "      <td>&lt;=50K</td>\n",
       "    </tr>\n",
       "    <tr>\n",
       "      <th>1</th>\n",
       "      <td>50</td>\n",
       "      <td>Self-emp-not-inc</td>\n",
       "      <td>83311</td>\n",
       "      <td>Bachelors</td>\n",
       "      <td>13</td>\n",
       "      <td>Married-civ-spouse</td>\n",
       "      <td>Exec-managerial</td>\n",
       "      <td>Husband</td>\n",
       "      <td>White</td>\n",
       "      <td>Male</td>\n",
       "      <td>0</td>\n",
       "      <td>0</td>\n",
       "      <td>13</td>\n",
       "      <td>United-States</td>\n",
       "      <td>&lt;=50K</td>\n",
       "    </tr>\n",
       "    <tr>\n",
       "      <th>2</th>\n",
       "      <td>38</td>\n",
       "      <td>Private</td>\n",
       "      <td>215646</td>\n",
       "      <td>HS-grad</td>\n",
       "      <td>9</td>\n",
       "      <td>Divorced</td>\n",
       "      <td>Handlers-cleaners</td>\n",
       "      <td>Not-in-family</td>\n",
       "      <td>White</td>\n",
       "      <td>Male</td>\n",
       "      <td>0</td>\n",
       "      <td>0</td>\n",
       "      <td>40</td>\n",
       "      <td>United-States</td>\n",
       "      <td>&lt;=50K</td>\n",
       "    </tr>\n",
       "    <tr>\n",
       "      <th>3</th>\n",
       "      <td>53</td>\n",
       "      <td>Private</td>\n",
       "      <td>234721</td>\n",
       "      <td>11th</td>\n",
       "      <td>7</td>\n",
       "      <td>Married-civ-spouse</td>\n",
       "      <td>Handlers-cleaners</td>\n",
       "      <td>Husband</td>\n",
       "      <td>Black</td>\n",
       "      <td>Male</td>\n",
       "      <td>0</td>\n",
       "      <td>0</td>\n",
       "      <td>40</td>\n",
       "      <td>United-States</td>\n",
       "      <td>&lt;=50K</td>\n",
       "    </tr>\n",
       "    <tr>\n",
       "      <th>4</th>\n",
       "      <td>28</td>\n",
       "      <td>Private</td>\n",
       "      <td>338409</td>\n",
       "      <td>Bachelors</td>\n",
       "      <td>13</td>\n",
       "      <td>Married-civ-spouse</td>\n",
       "      <td>Prof-specialty</td>\n",
       "      <td>Wife</td>\n",
       "      <td>Black</td>\n",
       "      <td>Female</td>\n",
       "      <td>0</td>\n",
       "      <td>0</td>\n",
       "      <td>40</td>\n",
       "      <td>Cuba</td>\n",
       "      <td>&lt;=50K</td>\n",
       "    </tr>\n",
       "    <tr>\n",
       "      <th>...</th>\n",
       "      <td>...</td>\n",
       "      <td>...</td>\n",
       "      <td>...</td>\n",
       "      <td>...</td>\n",
       "      <td>...</td>\n",
       "      <td>...</td>\n",
       "      <td>...</td>\n",
       "      <td>...</td>\n",
       "      <td>...</td>\n",
       "      <td>...</td>\n",
       "      <td>...</td>\n",
       "      <td>...</td>\n",
       "      <td>...</td>\n",
       "      <td>...</td>\n",
       "      <td>...</td>\n",
       "    </tr>\n",
       "    <tr>\n",
       "      <th>32556</th>\n",
       "      <td>27</td>\n",
       "      <td>Private</td>\n",
       "      <td>257302</td>\n",
       "      <td>Assoc-acdm</td>\n",
       "      <td>12</td>\n",
       "      <td>Married-civ-spouse</td>\n",
       "      <td>Tech-support</td>\n",
       "      <td>Wife</td>\n",
       "      <td>White</td>\n",
       "      <td>Female</td>\n",
       "      <td>0</td>\n",
       "      <td>0</td>\n",
       "      <td>38</td>\n",
       "      <td>United-States</td>\n",
       "      <td>&lt;=50K</td>\n",
       "    </tr>\n",
       "    <tr>\n",
       "      <th>32557</th>\n",
       "      <td>40</td>\n",
       "      <td>Private</td>\n",
       "      <td>154374</td>\n",
       "      <td>HS-grad</td>\n",
       "      <td>9</td>\n",
       "      <td>Married-civ-spouse</td>\n",
       "      <td>Machine-op-inspct</td>\n",
       "      <td>Husband</td>\n",
       "      <td>White</td>\n",
       "      <td>Male</td>\n",
       "      <td>0</td>\n",
       "      <td>0</td>\n",
       "      <td>40</td>\n",
       "      <td>United-States</td>\n",
       "      <td>&gt;50K</td>\n",
       "    </tr>\n",
       "    <tr>\n",
       "      <th>32558</th>\n",
       "      <td>58</td>\n",
       "      <td>Private</td>\n",
       "      <td>151910</td>\n",
       "      <td>HS-grad</td>\n",
       "      <td>9</td>\n",
       "      <td>Widowed</td>\n",
       "      <td>Adm-clerical</td>\n",
       "      <td>Unmarried</td>\n",
       "      <td>White</td>\n",
       "      <td>Female</td>\n",
       "      <td>0</td>\n",
       "      <td>0</td>\n",
       "      <td>40</td>\n",
       "      <td>United-States</td>\n",
       "      <td>&lt;=50K</td>\n",
       "    </tr>\n",
       "    <tr>\n",
       "      <th>32559</th>\n",
       "      <td>22</td>\n",
       "      <td>Private</td>\n",
       "      <td>201490</td>\n",
       "      <td>HS-grad</td>\n",
       "      <td>9</td>\n",
       "      <td>Never-married</td>\n",
       "      <td>Adm-clerical</td>\n",
       "      <td>Own-child</td>\n",
       "      <td>White</td>\n",
       "      <td>Male</td>\n",
       "      <td>0</td>\n",
       "      <td>0</td>\n",
       "      <td>20</td>\n",
       "      <td>United-States</td>\n",
       "      <td>&lt;=50K</td>\n",
       "    </tr>\n",
       "    <tr>\n",
       "      <th>32560</th>\n",
       "      <td>52</td>\n",
       "      <td>Self-emp-inc</td>\n",
       "      <td>287927</td>\n",
       "      <td>HS-grad</td>\n",
       "      <td>9</td>\n",
       "      <td>Married-civ-spouse</td>\n",
       "      <td>Exec-managerial</td>\n",
       "      <td>Wife</td>\n",
       "      <td>White</td>\n",
       "      <td>Female</td>\n",
       "      <td>15024</td>\n",
       "      <td>0</td>\n",
       "      <td>40</td>\n",
       "      <td>United-States</td>\n",
       "      <td>&gt;50K</td>\n",
       "    </tr>\n",
       "  </tbody>\n",
       "</table>\n",
       "<p>32561 rows × 15 columns</p>\n",
       "</div>"
      ],
      "text/plain": [
       "       age          workclass  fnlwgt    education  education-num  \\\n",
       "0       39          State-gov   77516    Bachelors             13   \n",
       "1       50   Self-emp-not-inc   83311    Bachelors             13   \n",
       "2       38            Private  215646      HS-grad              9   \n",
       "3       53            Private  234721         11th              7   \n",
       "4       28            Private  338409    Bachelors             13   \n",
       "...    ...                ...     ...          ...            ...   \n",
       "32556   27            Private  257302   Assoc-acdm             12   \n",
       "32557   40            Private  154374      HS-grad              9   \n",
       "32558   58            Private  151910      HS-grad              9   \n",
       "32559   22            Private  201490      HS-grad              9   \n",
       "32560   52       Self-emp-inc  287927      HS-grad              9   \n",
       "\n",
       "            marital-status          occupation    relationship    race  \\\n",
       "0            Never-married        Adm-clerical   Not-in-family   White   \n",
       "1       Married-civ-spouse     Exec-managerial         Husband   White   \n",
       "2                 Divorced   Handlers-cleaners   Not-in-family   White   \n",
       "3       Married-civ-spouse   Handlers-cleaners         Husband   Black   \n",
       "4       Married-civ-spouse      Prof-specialty            Wife   Black   \n",
       "...                    ...                 ...             ...     ...   \n",
       "32556   Married-civ-spouse        Tech-support            Wife   White   \n",
       "32557   Married-civ-spouse   Machine-op-inspct         Husband   White   \n",
       "32558              Widowed        Adm-clerical       Unmarried   White   \n",
       "32559        Never-married        Adm-clerical       Own-child   White   \n",
       "32560   Married-civ-spouse     Exec-managerial            Wife   White   \n",
       "\n",
       "           sex  capital-gain  capital-loss  hours-per-week         country  \\\n",
       "0         Male          2174             0              40   United-States   \n",
       "1         Male             0             0              13   United-States   \n",
       "2         Male             0             0              40   United-States   \n",
       "3         Male             0             0              40   United-States   \n",
       "4       Female             0             0              40            Cuba   \n",
       "...        ...           ...           ...             ...             ...   \n",
       "32556   Female             0             0              38   United-States   \n",
       "32557     Male             0             0              40   United-States   \n",
       "32558   Female             0             0              40   United-States   \n",
       "32559     Male             0             0              20   United-States   \n",
       "32560   Female         15024             0              40   United-States   \n",
       "\n",
       "       salary  \n",
       "0       <=50K  \n",
       "1       <=50K  \n",
       "2       <=50K  \n",
       "3       <=50K  \n",
       "4       <=50K  \n",
       "...       ...  \n",
       "32556   <=50K  \n",
       "32557    >50K  \n",
       "32558   <=50K  \n",
       "32559   <=50K  \n",
       "32560    >50K  \n",
       "\n",
       "[32561 rows x 15 columns]"
      ]
     },
     "execution_count": 3,
     "metadata": {},
     "output_type": "execute_result"
    }
   ],
   "source": [
    "df"
   ]
  },
  {
   "cell_type": "code",
   "execution_count": 4,
   "id": "ceeedeb4",
   "metadata": {},
   "outputs": [
    {
     "data": {
      "text/plain": [
       "(32561, 15)"
      ]
     },
     "execution_count": 4,
     "metadata": {},
     "output_type": "execute_result"
    }
   ],
   "source": [
    "df.shape"
   ]
  },
  {
   "cell_type": "code",
   "execution_count": 5,
   "id": "6aec643a",
   "metadata": {},
   "outputs": [
    {
     "data": {
      "text/html": [
       "<div>\n",
       "<style scoped>\n",
       "    .dataframe tbody tr th:only-of-type {\n",
       "        vertical-align: middle;\n",
       "    }\n",
       "\n",
       "    .dataframe tbody tr th {\n",
       "        vertical-align: top;\n",
       "    }\n",
       "\n",
       "    .dataframe thead th {\n",
       "        text-align: right;\n",
       "    }\n",
       "</style>\n",
       "<table border=\"1\" class=\"dataframe\">\n",
       "  <thead>\n",
       "    <tr style=\"text-align: right;\">\n",
       "      <th></th>\n",
       "      <th>age</th>\n",
       "      <th>fnlwgt</th>\n",
       "      <th>education-num</th>\n",
       "      <th>capital-gain</th>\n",
       "      <th>capital-loss</th>\n",
       "      <th>hours-per-week</th>\n",
       "    </tr>\n",
       "  </thead>\n",
       "  <tbody>\n",
       "    <tr>\n",
       "      <th>count</th>\n",
       "      <td>32561.000000</td>\n",
       "      <td>3.256100e+04</td>\n",
       "      <td>32561.000000</td>\n",
       "      <td>32561.000000</td>\n",
       "      <td>32561.000000</td>\n",
       "      <td>32561.000000</td>\n",
       "    </tr>\n",
       "    <tr>\n",
       "      <th>mean</th>\n",
       "      <td>38.581647</td>\n",
       "      <td>1.897784e+05</td>\n",
       "      <td>10.080679</td>\n",
       "      <td>1077.648844</td>\n",
       "      <td>87.303830</td>\n",
       "      <td>40.437456</td>\n",
       "    </tr>\n",
       "    <tr>\n",
       "      <th>std</th>\n",
       "      <td>13.640433</td>\n",
       "      <td>1.055500e+05</td>\n",
       "      <td>2.572720</td>\n",
       "      <td>7385.292085</td>\n",
       "      <td>402.960219</td>\n",
       "      <td>12.347429</td>\n",
       "    </tr>\n",
       "    <tr>\n",
       "      <th>min</th>\n",
       "      <td>17.000000</td>\n",
       "      <td>1.228500e+04</td>\n",
       "      <td>1.000000</td>\n",
       "      <td>0.000000</td>\n",
       "      <td>0.000000</td>\n",
       "      <td>1.000000</td>\n",
       "    </tr>\n",
       "    <tr>\n",
       "      <th>25%</th>\n",
       "      <td>28.000000</td>\n",
       "      <td>1.178270e+05</td>\n",
       "      <td>9.000000</td>\n",
       "      <td>0.000000</td>\n",
       "      <td>0.000000</td>\n",
       "      <td>40.000000</td>\n",
       "    </tr>\n",
       "    <tr>\n",
       "      <th>50%</th>\n",
       "      <td>37.000000</td>\n",
       "      <td>1.783560e+05</td>\n",
       "      <td>10.000000</td>\n",
       "      <td>0.000000</td>\n",
       "      <td>0.000000</td>\n",
       "      <td>40.000000</td>\n",
       "    </tr>\n",
       "    <tr>\n",
       "      <th>75%</th>\n",
       "      <td>48.000000</td>\n",
       "      <td>2.370510e+05</td>\n",
       "      <td>12.000000</td>\n",
       "      <td>0.000000</td>\n",
       "      <td>0.000000</td>\n",
       "      <td>45.000000</td>\n",
       "    </tr>\n",
       "    <tr>\n",
       "      <th>max</th>\n",
       "      <td>90.000000</td>\n",
       "      <td>1.484705e+06</td>\n",
       "      <td>16.000000</td>\n",
       "      <td>99999.000000</td>\n",
       "      <td>4356.000000</td>\n",
       "      <td>99.000000</td>\n",
       "    </tr>\n",
       "  </tbody>\n",
       "</table>\n",
       "</div>"
      ],
      "text/plain": [
       "                age        fnlwgt  education-num  capital-gain  capital-loss  \\\n",
       "count  32561.000000  3.256100e+04   32561.000000  32561.000000  32561.000000   \n",
       "mean      38.581647  1.897784e+05      10.080679   1077.648844     87.303830   \n",
       "std       13.640433  1.055500e+05       2.572720   7385.292085    402.960219   \n",
       "min       17.000000  1.228500e+04       1.000000      0.000000      0.000000   \n",
       "25%       28.000000  1.178270e+05       9.000000      0.000000      0.000000   \n",
       "50%       37.000000  1.783560e+05      10.000000      0.000000      0.000000   \n",
       "75%       48.000000  2.370510e+05      12.000000      0.000000      0.000000   \n",
       "max       90.000000  1.484705e+06      16.000000  99999.000000   4356.000000   \n",
       "\n",
       "       hours-per-week  \n",
       "count    32561.000000  \n",
       "mean        40.437456  \n",
       "std         12.347429  \n",
       "min          1.000000  \n",
       "25%         40.000000  \n",
       "50%         40.000000  \n",
       "75%         45.000000  \n",
       "max         99.000000  "
      ]
     },
     "execution_count": 5,
     "metadata": {},
     "output_type": "execute_result"
    }
   ],
   "source": [
    "df.describe()"
   ]
  },
  {
   "cell_type": "code",
   "execution_count": 6,
   "id": "a5a9e2cb",
   "metadata": {},
   "outputs": [
    {
     "data": {
      "text/plain": [
       "age               False\n",
       "workclass         False\n",
       "fnlwgt            False\n",
       "education         False\n",
       "education-num     False\n",
       "marital-status    False\n",
       "occupation        False\n",
       "relationship      False\n",
       "race              False\n",
       "sex               False\n",
       "capital-gain      False\n",
       "capital-loss      False\n",
       "hours-per-week    False\n",
       "country           False\n",
       "salary            False\n",
       "dtype: bool"
      ]
     },
     "execution_count": 6,
     "metadata": {},
     "output_type": "execute_result"
    }
   ],
   "source": [
    "df.isnull().any()"
   ]
  },
  {
   "cell_type": "code",
   "execution_count": 7,
   "id": "eea500b5",
   "metadata": {},
   "outputs": [
    {
     "data": {
      "text/plain": [
       "age               0\n",
       "workclass         0\n",
       "fnlwgt            0\n",
       "education         0\n",
       "education-num     0\n",
       "marital-status    0\n",
       "occupation        0\n",
       "relationship      0\n",
       "race              0\n",
       "sex               0\n",
       "capital-gain      0\n",
       "capital-loss      0\n",
       "hours-per-week    0\n",
       "country           0\n",
       "salary            0\n",
       "dtype: int64"
      ]
     },
     "execution_count": 7,
     "metadata": {},
     "output_type": "execute_result"
    }
   ],
   "source": [
    "df.isnull().sum()"
   ]
  },
  {
   "cell_type": "code",
   "execution_count": 8,
   "id": "8c53e1bd",
   "metadata": {},
   "outputs": [],
   "source": [
    "dv = df.duplicated()"
   ]
  },
  {
   "cell_type": "code",
   "execution_count": 9,
   "id": "d8201405",
   "metadata": {},
   "outputs": [
    {
     "data": {
      "text/plain": [
       "24"
      ]
     },
     "execution_count": 9,
     "metadata": {},
     "output_type": "execute_result"
    }
   ],
   "source": [
    "dv.sum()"
   ]
  },
  {
   "cell_type": "code",
   "execution_count": 10,
   "id": "fc699bba",
   "metadata": {},
   "outputs": [
    {
     "data": {
      "text/html": [
       "<div>\n",
       "<style scoped>\n",
       "    .dataframe tbody tr th:only-of-type {\n",
       "        vertical-align: middle;\n",
       "    }\n",
       "\n",
       "    .dataframe tbody tr th {\n",
       "        vertical-align: top;\n",
       "    }\n",
       "\n",
       "    .dataframe thead th {\n",
       "        text-align: right;\n",
       "    }\n",
       "</style>\n",
       "<table border=\"1\" class=\"dataframe\">\n",
       "  <thead>\n",
       "    <tr style=\"text-align: right;\">\n",
       "      <th></th>\n",
       "      <th>age</th>\n",
       "      <th>workclass</th>\n",
       "      <th>fnlwgt</th>\n",
       "      <th>education</th>\n",
       "      <th>education-num</th>\n",
       "      <th>marital-status</th>\n",
       "      <th>occupation</th>\n",
       "      <th>relationship</th>\n",
       "      <th>race</th>\n",
       "      <th>sex</th>\n",
       "      <th>capital-gain</th>\n",
       "      <th>capital-loss</th>\n",
       "      <th>hours-per-week</th>\n",
       "      <th>country</th>\n",
       "      <th>salary</th>\n",
       "    </tr>\n",
       "  </thead>\n",
       "  <tbody>\n",
       "    <tr>\n",
       "      <th>4881</th>\n",
       "      <td>25</td>\n",
       "      <td>Private</td>\n",
       "      <td>308144</td>\n",
       "      <td>Bachelors</td>\n",
       "      <td>13</td>\n",
       "      <td>Never-married</td>\n",
       "      <td>Craft-repair</td>\n",
       "      <td>Not-in-family</td>\n",
       "      <td>White</td>\n",
       "      <td>Male</td>\n",
       "      <td>0</td>\n",
       "      <td>0</td>\n",
       "      <td>40</td>\n",
       "      <td>Mexico</td>\n",
       "      <td>&lt;=50K</td>\n",
       "    </tr>\n",
       "    <tr>\n",
       "      <th>5104</th>\n",
       "      <td>90</td>\n",
       "      <td>Private</td>\n",
       "      <td>52386</td>\n",
       "      <td>Some-college</td>\n",
       "      <td>10</td>\n",
       "      <td>Never-married</td>\n",
       "      <td>Other-service</td>\n",
       "      <td>Not-in-family</td>\n",
       "      <td>Asian-Pac-Islander</td>\n",
       "      <td>Male</td>\n",
       "      <td>0</td>\n",
       "      <td>0</td>\n",
       "      <td>35</td>\n",
       "      <td>United-States</td>\n",
       "      <td>&lt;=50K</td>\n",
       "    </tr>\n",
       "    <tr>\n",
       "      <th>9171</th>\n",
       "      <td>21</td>\n",
       "      <td>Private</td>\n",
       "      <td>250051</td>\n",
       "      <td>Some-college</td>\n",
       "      <td>10</td>\n",
       "      <td>Never-married</td>\n",
       "      <td>Prof-specialty</td>\n",
       "      <td>Own-child</td>\n",
       "      <td>White</td>\n",
       "      <td>Female</td>\n",
       "      <td>0</td>\n",
       "      <td>0</td>\n",
       "      <td>10</td>\n",
       "      <td>United-States</td>\n",
       "      <td>&lt;=50K</td>\n",
       "    </tr>\n",
       "    <tr>\n",
       "      <th>11631</th>\n",
       "      <td>20</td>\n",
       "      <td>Private</td>\n",
       "      <td>107658</td>\n",
       "      <td>Some-college</td>\n",
       "      <td>10</td>\n",
       "      <td>Never-married</td>\n",
       "      <td>Tech-support</td>\n",
       "      <td>Not-in-family</td>\n",
       "      <td>White</td>\n",
       "      <td>Female</td>\n",
       "      <td>0</td>\n",
       "      <td>0</td>\n",
       "      <td>10</td>\n",
       "      <td>United-States</td>\n",
       "      <td>&lt;=50K</td>\n",
       "    </tr>\n",
       "    <tr>\n",
       "      <th>13084</th>\n",
       "      <td>25</td>\n",
       "      <td>Private</td>\n",
       "      <td>195994</td>\n",
       "      <td>1st-4th</td>\n",
       "      <td>2</td>\n",
       "      <td>Never-married</td>\n",
       "      <td>Priv-house-serv</td>\n",
       "      <td>Not-in-family</td>\n",
       "      <td>White</td>\n",
       "      <td>Female</td>\n",
       "      <td>0</td>\n",
       "      <td>0</td>\n",
       "      <td>40</td>\n",
       "      <td>Guatemala</td>\n",
       "      <td>&lt;=50K</td>\n",
       "    </tr>\n",
       "    <tr>\n",
       "      <th>15059</th>\n",
       "      <td>21</td>\n",
       "      <td>Private</td>\n",
       "      <td>243368</td>\n",
       "      <td>Preschool</td>\n",
       "      <td>1</td>\n",
       "      <td>Never-married</td>\n",
       "      <td>Farming-fishing</td>\n",
       "      <td>Not-in-family</td>\n",
       "      <td>White</td>\n",
       "      <td>Male</td>\n",
       "      <td>0</td>\n",
       "      <td>0</td>\n",
       "      <td>50</td>\n",
       "      <td>Mexico</td>\n",
       "      <td>&lt;=50K</td>\n",
       "    </tr>\n",
       "    <tr>\n",
       "      <th>17040</th>\n",
       "      <td>46</td>\n",
       "      <td>Private</td>\n",
       "      <td>173243</td>\n",
       "      <td>HS-grad</td>\n",
       "      <td>9</td>\n",
       "      <td>Married-civ-spouse</td>\n",
       "      <td>Craft-repair</td>\n",
       "      <td>Husband</td>\n",
       "      <td>White</td>\n",
       "      <td>Male</td>\n",
       "      <td>0</td>\n",
       "      <td>0</td>\n",
       "      <td>40</td>\n",
       "      <td>United-States</td>\n",
       "      <td>&lt;=50K</td>\n",
       "    </tr>\n",
       "    <tr>\n",
       "      <th>18555</th>\n",
       "      <td>30</td>\n",
       "      <td>Private</td>\n",
       "      <td>144593</td>\n",
       "      <td>HS-grad</td>\n",
       "      <td>9</td>\n",
       "      <td>Never-married</td>\n",
       "      <td>Other-service</td>\n",
       "      <td>Not-in-family</td>\n",
       "      <td>Black</td>\n",
       "      <td>Male</td>\n",
       "      <td>0</td>\n",
       "      <td>0</td>\n",
       "      <td>40</td>\n",
       "      <td>?</td>\n",
       "      <td>&lt;=50K</td>\n",
       "    </tr>\n",
       "    <tr>\n",
       "      <th>18698</th>\n",
       "      <td>19</td>\n",
       "      <td>Private</td>\n",
       "      <td>97261</td>\n",
       "      <td>HS-grad</td>\n",
       "      <td>9</td>\n",
       "      <td>Never-married</td>\n",
       "      <td>Farming-fishing</td>\n",
       "      <td>Not-in-family</td>\n",
       "      <td>White</td>\n",
       "      <td>Male</td>\n",
       "      <td>0</td>\n",
       "      <td>0</td>\n",
       "      <td>40</td>\n",
       "      <td>United-States</td>\n",
       "      <td>&lt;=50K</td>\n",
       "    </tr>\n",
       "    <tr>\n",
       "      <th>21318</th>\n",
       "      <td>19</td>\n",
       "      <td>Private</td>\n",
       "      <td>138153</td>\n",
       "      <td>Some-college</td>\n",
       "      <td>10</td>\n",
       "      <td>Never-married</td>\n",
       "      <td>Adm-clerical</td>\n",
       "      <td>Own-child</td>\n",
       "      <td>White</td>\n",
       "      <td>Female</td>\n",
       "      <td>0</td>\n",
       "      <td>0</td>\n",
       "      <td>10</td>\n",
       "      <td>United-States</td>\n",
       "      <td>&lt;=50K</td>\n",
       "    </tr>\n",
       "    <tr>\n",
       "      <th>21490</th>\n",
       "      <td>19</td>\n",
       "      <td>Private</td>\n",
       "      <td>146679</td>\n",
       "      <td>Some-college</td>\n",
       "      <td>10</td>\n",
       "      <td>Never-married</td>\n",
       "      <td>Exec-managerial</td>\n",
       "      <td>Own-child</td>\n",
       "      <td>Black</td>\n",
       "      <td>Male</td>\n",
       "      <td>0</td>\n",
       "      <td>0</td>\n",
       "      <td>30</td>\n",
       "      <td>United-States</td>\n",
       "      <td>&lt;=50K</td>\n",
       "    </tr>\n",
       "    <tr>\n",
       "      <th>21875</th>\n",
       "      <td>49</td>\n",
       "      <td>Private</td>\n",
       "      <td>31267</td>\n",
       "      <td>7th-8th</td>\n",
       "      <td>4</td>\n",
       "      <td>Married-civ-spouse</td>\n",
       "      <td>Craft-repair</td>\n",
       "      <td>Husband</td>\n",
       "      <td>White</td>\n",
       "      <td>Male</td>\n",
       "      <td>0</td>\n",
       "      <td>0</td>\n",
       "      <td>40</td>\n",
       "      <td>United-States</td>\n",
       "      <td>&lt;=50K</td>\n",
       "    </tr>\n",
       "    <tr>\n",
       "      <th>22300</th>\n",
       "      <td>25</td>\n",
       "      <td>Private</td>\n",
       "      <td>195994</td>\n",
       "      <td>1st-4th</td>\n",
       "      <td>2</td>\n",
       "      <td>Never-married</td>\n",
       "      <td>Priv-house-serv</td>\n",
       "      <td>Not-in-family</td>\n",
       "      <td>White</td>\n",
       "      <td>Female</td>\n",
       "      <td>0</td>\n",
       "      <td>0</td>\n",
       "      <td>40</td>\n",
       "      <td>Guatemala</td>\n",
       "      <td>&lt;=50K</td>\n",
       "    </tr>\n",
       "    <tr>\n",
       "      <th>22367</th>\n",
       "      <td>44</td>\n",
       "      <td>Private</td>\n",
       "      <td>367749</td>\n",
       "      <td>Bachelors</td>\n",
       "      <td>13</td>\n",
       "      <td>Never-married</td>\n",
       "      <td>Prof-specialty</td>\n",
       "      <td>Not-in-family</td>\n",
       "      <td>White</td>\n",
       "      <td>Female</td>\n",
       "      <td>0</td>\n",
       "      <td>0</td>\n",
       "      <td>45</td>\n",
       "      <td>Mexico</td>\n",
       "      <td>&lt;=50K</td>\n",
       "    </tr>\n",
       "    <tr>\n",
       "      <th>22494</th>\n",
       "      <td>49</td>\n",
       "      <td>Self-emp-not-inc</td>\n",
       "      <td>43479</td>\n",
       "      <td>Some-college</td>\n",
       "      <td>10</td>\n",
       "      <td>Married-civ-spouse</td>\n",
       "      <td>Craft-repair</td>\n",
       "      <td>Husband</td>\n",
       "      <td>White</td>\n",
       "      <td>Male</td>\n",
       "      <td>0</td>\n",
       "      <td>0</td>\n",
       "      <td>40</td>\n",
       "      <td>United-States</td>\n",
       "      <td>&lt;=50K</td>\n",
       "    </tr>\n",
       "    <tr>\n",
       "      <th>25872</th>\n",
       "      <td>23</td>\n",
       "      <td>Private</td>\n",
       "      <td>240137</td>\n",
       "      <td>5th-6th</td>\n",
       "      <td>3</td>\n",
       "      <td>Never-married</td>\n",
       "      <td>Handlers-cleaners</td>\n",
       "      <td>Not-in-family</td>\n",
       "      <td>White</td>\n",
       "      <td>Male</td>\n",
       "      <td>0</td>\n",
       "      <td>0</td>\n",
       "      <td>55</td>\n",
       "      <td>Mexico</td>\n",
       "      <td>&lt;=50K</td>\n",
       "    </tr>\n",
       "    <tr>\n",
       "      <th>26313</th>\n",
       "      <td>28</td>\n",
       "      <td>Private</td>\n",
       "      <td>274679</td>\n",
       "      <td>Masters</td>\n",
       "      <td>14</td>\n",
       "      <td>Never-married</td>\n",
       "      <td>Prof-specialty</td>\n",
       "      <td>Not-in-family</td>\n",
       "      <td>White</td>\n",
       "      <td>Male</td>\n",
       "      <td>0</td>\n",
       "      <td>0</td>\n",
       "      <td>50</td>\n",
       "      <td>United-States</td>\n",
       "      <td>&lt;=50K</td>\n",
       "    </tr>\n",
       "    <tr>\n",
       "      <th>28230</th>\n",
       "      <td>27</td>\n",
       "      <td>Private</td>\n",
       "      <td>255582</td>\n",
       "      <td>HS-grad</td>\n",
       "      <td>9</td>\n",
       "      <td>Never-married</td>\n",
       "      <td>Machine-op-inspct</td>\n",
       "      <td>Not-in-family</td>\n",
       "      <td>White</td>\n",
       "      <td>Female</td>\n",
       "      <td>0</td>\n",
       "      <td>0</td>\n",
       "      <td>40</td>\n",
       "      <td>United-States</td>\n",
       "      <td>&lt;=50K</td>\n",
       "    </tr>\n",
       "    <tr>\n",
       "      <th>28522</th>\n",
       "      <td>42</td>\n",
       "      <td>Private</td>\n",
       "      <td>204235</td>\n",
       "      <td>Some-college</td>\n",
       "      <td>10</td>\n",
       "      <td>Married-civ-spouse</td>\n",
       "      <td>Prof-specialty</td>\n",
       "      <td>Husband</td>\n",
       "      <td>White</td>\n",
       "      <td>Male</td>\n",
       "      <td>0</td>\n",
       "      <td>0</td>\n",
       "      <td>40</td>\n",
       "      <td>United-States</td>\n",
       "      <td>&gt;50K</td>\n",
       "    </tr>\n",
       "    <tr>\n",
       "      <th>28846</th>\n",
       "      <td>39</td>\n",
       "      <td>Private</td>\n",
       "      <td>30916</td>\n",
       "      <td>HS-grad</td>\n",
       "      <td>9</td>\n",
       "      <td>Married-civ-spouse</td>\n",
       "      <td>Craft-repair</td>\n",
       "      <td>Husband</td>\n",
       "      <td>White</td>\n",
       "      <td>Male</td>\n",
       "      <td>0</td>\n",
       "      <td>0</td>\n",
       "      <td>40</td>\n",
       "      <td>United-States</td>\n",
       "      <td>&lt;=50K</td>\n",
       "    </tr>\n",
       "    <tr>\n",
       "      <th>29157</th>\n",
       "      <td>38</td>\n",
       "      <td>Private</td>\n",
       "      <td>207202</td>\n",
       "      <td>HS-grad</td>\n",
       "      <td>9</td>\n",
       "      <td>Married-civ-spouse</td>\n",
       "      <td>Machine-op-inspct</td>\n",
       "      <td>Husband</td>\n",
       "      <td>White</td>\n",
       "      <td>Male</td>\n",
       "      <td>0</td>\n",
       "      <td>0</td>\n",
       "      <td>48</td>\n",
       "      <td>United-States</td>\n",
       "      <td>&gt;50K</td>\n",
       "    </tr>\n",
       "    <tr>\n",
       "      <th>30845</th>\n",
       "      <td>46</td>\n",
       "      <td>Private</td>\n",
       "      <td>133616</td>\n",
       "      <td>Some-college</td>\n",
       "      <td>10</td>\n",
       "      <td>Divorced</td>\n",
       "      <td>Adm-clerical</td>\n",
       "      <td>Unmarried</td>\n",
       "      <td>White</td>\n",
       "      <td>Female</td>\n",
       "      <td>0</td>\n",
       "      <td>0</td>\n",
       "      <td>40</td>\n",
       "      <td>United-States</td>\n",
       "      <td>&lt;=50K</td>\n",
       "    </tr>\n",
       "    <tr>\n",
       "      <th>31993</th>\n",
       "      <td>19</td>\n",
       "      <td>Private</td>\n",
       "      <td>251579</td>\n",
       "      <td>Some-college</td>\n",
       "      <td>10</td>\n",
       "      <td>Never-married</td>\n",
       "      <td>Other-service</td>\n",
       "      <td>Own-child</td>\n",
       "      <td>White</td>\n",
       "      <td>Male</td>\n",
       "      <td>0</td>\n",
       "      <td>0</td>\n",
       "      <td>14</td>\n",
       "      <td>United-States</td>\n",
       "      <td>&lt;=50K</td>\n",
       "    </tr>\n",
       "    <tr>\n",
       "      <th>32404</th>\n",
       "      <td>35</td>\n",
       "      <td>Private</td>\n",
       "      <td>379959</td>\n",
       "      <td>HS-grad</td>\n",
       "      <td>9</td>\n",
       "      <td>Divorced</td>\n",
       "      <td>Other-service</td>\n",
       "      <td>Not-in-family</td>\n",
       "      <td>White</td>\n",
       "      <td>Female</td>\n",
       "      <td>0</td>\n",
       "      <td>0</td>\n",
       "      <td>40</td>\n",
       "      <td>United-States</td>\n",
       "      <td>&lt;=50K</td>\n",
       "    </tr>\n",
       "  </tbody>\n",
       "</table>\n",
       "</div>"
      ],
      "text/plain": [
       "       age          workclass  fnlwgt      education  education-num  \\\n",
       "4881    25            Private  308144      Bachelors             13   \n",
       "5104    90            Private   52386   Some-college             10   \n",
       "9171    21            Private  250051   Some-college             10   \n",
       "11631   20            Private  107658   Some-college             10   \n",
       "13084   25            Private  195994        1st-4th              2   \n",
       "15059   21            Private  243368      Preschool              1   \n",
       "17040   46            Private  173243        HS-grad              9   \n",
       "18555   30            Private  144593        HS-grad              9   \n",
       "18698   19            Private   97261        HS-grad              9   \n",
       "21318   19            Private  138153   Some-college             10   \n",
       "21490   19            Private  146679   Some-college             10   \n",
       "21875   49            Private   31267        7th-8th              4   \n",
       "22300   25            Private  195994        1st-4th              2   \n",
       "22367   44            Private  367749      Bachelors             13   \n",
       "22494   49   Self-emp-not-inc   43479   Some-college             10   \n",
       "25872   23            Private  240137        5th-6th              3   \n",
       "26313   28            Private  274679        Masters             14   \n",
       "28230   27            Private  255582        HS-grad              9   \n",
       "28522   42            Private  204235   Some-college             10   \n",
       "28846   39            Private   30916        HS-grad              9   \n",
       "29157   38            Private  207202        HS-grad              9   \n",
       "30845   46            Private  133616   Some-college             10   \n",
       "31993   19            Private  251579   Some-college             10   \n",
       "32404   35            Private  379959        HS-grad              9   \n",
       "\n",
       "            marital-status          occupation    relationship  \\\n",
       "4881         Never-married        Craft-repair   Not-in-family   \n",
       "5104         Never-married       Other-service   Not-in-family   \n",
       "9171         Never-married      Prof-specialty       Own-child   \n",
       "11631        Never-married        Tech-support   Not-in-family   \n",
       "13084        Never-married     Priv-house-serv   Not-in-family   \n",
       "15059        Never-married     Farming-fishing   Not-in-family   \n",
       "17040   Married-civ-spouse        Craft-repair         Husband   \n",
       "18555        Never-married       Other-service   Not-in-family   \n",
       "18698        Never-married     Farming-fishing   Not-in-family   \n",
       "21318        Never-married        Adm-clerical       Own-child   \n",
       "21490        Never-married     Exec-managerial       Own-child   \n",
       "21875   Married-civ-spouse        Craft-repair         Husband   \n",
       "22300        Never-married     Priv-house-serv   Not-in-family   \n",
       "22367        Never-married      Prof-specialty   Not-in-family   \n",
       "22494   Married-civ-spouse        Craft-repair         Husband   \n",
       "25872        Never-married   Handlers-cleaners   Not-in-family   \n",
       "26313        Never-married      Prof-specialty   Not-in-family   \n",
       "28230        Never-married   Machine-op-inspct   Not-in-family   \n",
       "28522   Married-civ-spouse      Prof-specialty         Husband   \n",
       "28846   Married-civ-spouse        Craft-repair         Husband   \n",
       "29157   Married-civ-spouse   Machine-op-inspct         Husband   \n",
       "30845             Divorced        Adm-clerical       Unmarried   \n",
       "31993        Never-married       Other-service       Own-child   \n",
       "32404             Divorced       Other-service   Not-in-family   \n",
       "\n",
       "                      race      sex  capital-gain  capital-loss  \\\n",
       "4881                 White     Male             0             0   \n",
       "5104    Asian-Pac-Islander     Male             0             0   \n",
       "9171                 White   Female             0             0   \n",
       "11631                White   Female             0             0   \n",
       "13084                White   Female             0             0   \n",
       "15059                White     Male             0             0   \n",
       "17040                White     Male             0             0   \n",
       "18555                Black     Male             0             0   \n",
       "18698                White     Male             0             0   \n",
       "21318                White   Female             0             0   \n",
       "21490                Black     Male             0             0   \n",
       "21875                White     Male             0             0   \n",
       "22300                White   Female             0             0   \n",
       "22367                White   Female             0             0   \n",
       "22494                White     Male             0             0   \n",
       "25872                White     Male             0             0   \n",
       "26313                White     Male             0             0   \n",
       "28230                White   Female             0             0   \n",
       "28522                White     Male             0             0   \n",
       "28846                White     Male             0             0   \n",
       "29157                White     Male             0             0   \n",
       "30845                White   Female             0             0   \n",
       "31993                White     Male             0             0   \n",
       "32404                White   Female             0             0   \n",
       "\n",
       "       hours-per-week         country  salary  \n",
       "4881               40          Mexico   <=50K  \n",
       "5104               35   United-States   <=50K  \n",
       "9171               10   United-States   <=50K  \n",
       "11631              10   United-States   <=50K  \n",
       "13084              40       Guatemala   <=50K  \n",
       "15059              50          Mexico   <=50K  \n",
       "17040              40   United-States   <=50K  \n",
       "18555              40               ?   <=50K  \n",
       "18698              40   United-States   <=50K  \n",
       "21318              10   United-States   <=50K  \n",
       "21490              30   United-States   <=50K  \n",
       "21875              40   United-States   <=50K  \n",
       "22300              40       Guatemala   <=50K  \n",
       "22367              45          Mexico   <=50K  \n",
       "22494              40   United-States   <=50K  \n",
       "25872              55          Mexico   <=50K  \n",
       "26313              50   United-States   <=50K  \n",
       "28230              40   United-States   <=50K  \n",
       "28522              40   United-States    >50K  \n",
       "28846              40   United-States   <=50K  \n",
       "29157              48   United-States    >50K  \n",
       "30845              40   United-States   <=50K  \n",
       "31993              14   United-States   <=50K  \n",
       "32404              40   United-States   <=50K  "
      ]
     },
     "execution_count": 10,
     "metadata": {},
     "output_type": "execute_result"
    }
   ],
   "source": [
    "df[dv]"
   ]
  },
  {
   "cell_type": "code",
   "execution_count": 11,
   "id": "c65c97e9",
   "metadata": {},
   "outputs": [],
   "source": [
    "df.drop_duplicates(inplace = True)"
   ]
  },
  {
   "cell_type": "code",
   "execution_count": 12,
   "id": "ede155a5",
   "metadata": {},
   "outputs": [
    {
     "data": {
      "text/plain": [
       "0"
      ]
     },
     "execution_count": 12,
     "metadata": {},
     "output_type": "execute_result"
    }
   ],
   "source": [
    "dv2 = df.duplicated()\n",
    "dv2.sum()"
   ]
  },
  {
   "cell_type": "code",
   "execution_count": 13,
   "id": "616bfc3b",
   "metadata": {},
   "outputs": [],
   "source": [
    "z = df.salary.value_counts(normalize = True)"
   ]
  },
  {
   "cell_type": "code",
   "execution_count": 14,
   "id": "83804896",
   "metadata": {},
   "outputs": [
    {
     "data": {
      "text/plain": [
       "32367    90\n",
       "5272     90\n",
       "4109     90\n",
       "22220    90\n",
       "18725    90\n",
       "         ..\n",
       "24009    17\n",
       "13091    17\n",
       "12318    17\n",
       "10281    17\n",
       "14896    17\n",
       "Name: age, Length: 32537, dtype: int64"
      ]
     },
     "execution_count": 14,
     "metadata": {},
     "output_type": "execute_result"
    }
   ],
   "source": [
    "df.age.sort_values(ascending=False)"
   ]
  },
  {
   "cell_type": "code",
   "execution_count": 15,
   "id": "e9464523",
   "metadata": {},
   "outputs": [],
   "source": [
    "education = df['education'].value_counts(normalize = True)"
   ]
  },
  {
   "cell_type": "code",
   "execution_count": 16,
   "id": "9f643a8a",
   "metadata": {},
   "outputs": [
    {
     "data": {
      "text/plain": [
       " HS-grad         0.322525\n",
       " Some-college    0.223807\n",
       " Bachelors       0.164520\n",
       " Masters         0.052924\n",
       " Assoc-voc       0.042475\n",
       " 11th            0.036113\n",
       " Assoc-acdm      0.032793\n",
       " 10th            0.028675\n",
       " 7th-8th         0.019824\n",
       " Prof-school     0.017703\n",
       " 9th             0.015797\n",
       " 12th            0.013308\n",
       " Doctorate       0.012693\n",
       " 5th-6th         0.010204\n",
       " 1st-4th         0.005102\n",
       " Preschool       0.001537\n",
       "Name: education, dtype: float64"
      ]
     },
     "execution_count": 16,
     "metadata": {},
     "output_type": "execute_result"
    }
   ],
   "source": [
    "education"
   ]
  },
  {
   "cell_type": "code",
   "execution_count": 17,
   "id": "08ef185c",
   "metadata": {},
   "outputs": [
    {
     "data": {
      "image/png": "[encoded data removed]",
      "text/plain": [
       "<Figure size 432x288 with 1 Axes>"
      ]
     },
     "metadata": {
      "needs_background": "light"
     },
     "output_type": "display_data"
    }
   ],
   "source": [
    "sns.barplot(education.values,education.index,palette='mako')\n",
    "plt.xlabel('No of people')\n",
    "plt.ylabel('Education')\n",
    "plt.tick_params(labelsize=8)\n",
    "plt.show()"
   ]
  },
  {
   "cell_type": "markdown",
   "id": "eae543c8",
   "metadata": {},
   "source": [
    "Here we see that the majority of people have completed HS-Grad, College or Bachelors"
   ]
  },
  {
   "cell_type": "code",
   "execution_count": 18,
   "id": "4659fc48",
   "metadata": {},
   "outputs": [],
   "source": [
    "ms = df['marital-status'].value_counts(normalize = True)"
   ]
  },
  {
   "cell_type": "code",
   "execution_count": 19,
   "id": "4009dabf",
   "metadata": {},
   "outputs": [
    {
     "data": {
      "text/plain": [
       " Married-civ-spouse       0.460092\n",
       " Never-married            0.327842\n",
       " Divorced                 0.136491\n",
       " Separated                0.031503\n",
       " Widowed                  0.030519\n",
       " Married-spouse-absent    0.012847\n",
       " Married-AF-spouse        0.000707\n",
       "Name: marital-status, dtype: float64"
      ]
     },
     "execution_count": 19,
     "metadata": {},
     "output_type": "execute_result"
    }
   ],
   "source": [
    "ms"
   ]
  },
  {
   "cell_type": "code",
   "execution_count": 20,
   "id": "3b87f683",
   "metadata": {},
   "outputs": [
    {
     "data": {
      "image/png": "[encoded data removed]",
      "text/plain": [
       "<Figure size 432x288 with 1 Axes>"
      ]
     },
     "metadata": {
      "needs_background": "light"
     },
     "output_type": "display_data"
    }
   ],
   "source": [
    "sns.barplot(ms.index,ms.values,linewidth = 50,palette = 'mako')\n",
    "plt.xlabel('Martial Status')\n",
    "plt.ylabel('Percentage of people')\n",
    "plt.show()"
   ]
  },
  {
   "cell_type": "code",
   "execution_count": 21,
   "id": "e22dd084",
   "metadata": {},
   "outputs": [
    {
     "data": {
      "text/plain": [
       "<AxesSubplot:xlabel='age', ylabel='salary'>"
      ]
     },
     "execution_count": 21,
     "metadata": {},
     "output_type": "execute_result"
    },
    {
     "data": {
      "image/png": "[encoded data removed]",
      "text/plain": [
       "<Figure size 432x288 with 1 Axes>"
      ]
     },
     "metadata": {
      "needs_background": "light"
     },
     "output_type": "display_data"
    }
   ],
   "source": [
    "sns.barplot(data = df,x = 'age', y = 'salary')"
   ]
  },
  {
   "cell_type": "code",
   "execution_count": 22,
   "id": "e4120dc7",
   "metadata": {},
   "outputs": [
    {
     "data": {
      "image/png": "[encoded data removed]",
      "text/plain": [
       "<Figure size 864x864 with 1 Axes>"
      ]
     },
     "metadata": {
      "needs_background": "light"
     },
     "output_type": "display_data"
    }
   ],
   "source": [
    "plt.figure(figsize=(12,12))\n",
    "sns.distplot(df['age'])\n",
    "plt.ticklabel_format(style='scientific', axis='x')\n",
    "plt.ylabel('# of People')\n",
    "plt.show()"
   ]
  },
  {
   "cell_type": "code",
   "execution_count": 23,
   "id": "b61e3832",
   "metadata": {},
   "outputs": [
    {
     "data": {
      "text/html": [
       "<div>\n",
       "<style scoped>\n",
       "    .dataframe tbody tr th:only-of-type {\n",
       "        vertical-align: middle;\n",
       "    }\n",
       "\n",
       "    .dataframe tbody tr th {\n",
       "        vertical-align: top;\n",
       "    }\n",
       "\n",
       "    .dataframe thead th {\n",
       "        text-align: right;\n",
       "    }\n",
       "</style>\n",
       "<table border=\"1\" class=\"dataframe\">\n",
       "  <thead>\n",
       "    <tr style=\"text-align: right;\">\n",
       "      <th></th>\n",
       "      <th>age</th>\n",
       "      <th>fnlwgt</th>\n",
       "      <th>education-num</th>\n",
       "      <th>capital-gain</th>\n",
       "      <th>capital-loss</th>\n",
       "      <th>hours-per-week</th>\n",
       "    </tr>\n",
       "  </thead>\n",
       "  <tbody>\n",
       "    <tr>\n",
       "      <th>age</th>\n",
       "      <td>1.000000</td>\n",
       "      <td>-0.076447</td>\n",
       "      <td>0.036224</td>\n",
       "      <td>0.077676</td>\n",
       "      <td>0.057745</td>\n",
       "      <td>0.068515</td>\n",
       "    </tr>\n",
       "    <tr>\n",
       "      <th>fnlwgt</th>\n",
       "      <td>-0.076447</td>\n",
       "      <td>1.000000</td>\n",
       "      <td>-0.043388</td>\n",
       "      <td>0.000429</td>\n",
       "      <td>-0.010260</td>\n",
       "      <td>-0.018898</td>\n",
       "    </tr>\n",
       "    <tr>\n",
       "      <th>education-num</th>\n",
       "      <td>0.036224</td>\n",
       "      <td>-0.043388</td>\n",
       "      <td>1.000000</td>\n",
       "      <td>0.122664</td>\n",
       "      <td>0.079892</td>\n",
       "      <td>0.148422</td>\n",
       "    </tr>\n",
       "    <tr>\n",
       "      <th>capital-gain</th>\n",
       "      <td>0.077676</td>\n",
       "      <td>0.000429</td>\n",
       "      <td>0.122664</td>\n",
       "      <td>1.000000</td>\n",
       "      <td>-0.031639</td>\n",
       "      <td>0.078408</td>\n",
       "    </tr>\n",
       "    <tr>\n",
       "      <th>capital-loss</th>\n",
       "      <td>0.057745</td>\n",
       "      <td>-0.010260</td>\n",
       "      <td>0.079892</td>\n",
       "      <td>-0.031639</td>\n",
       "      <td>1.000000</td>\n",
       "      <td>0.054229</td>\n",
       "    </tr>\n",
       "    <tr>\n",
       "      <th>hours-per-week</th>\n",
       "      <td>0.068515</td>\n",
       "      <td>-0.018898</td>\n",
       "      <td>0.148422</td>\n",
       "      <td>0.078408</td>\n",
       "      <td>0.054229</td>\n",
       "      <td>1.000000</td>\n",
       "    </tr>\n",
       "  </tbody>\n",
       "</table>\n",
       "</div>"
      ],
      "text/plain": [
       "                     age    fnlwgt  education-num  capital-gain  capital-loss  \\\n",
       "age             1.000000 -0.076447       0.036224      0.077676      0.057745   \n",
       "fnlwgt         -0.076447  1.000000      -0.043388      0.000429     -0.010260   \n",
       "education-num   0.036224 -0.043388       1.000000      0.122664      0.079892   \n",
       "capital-gain    0.077676  0.000429       0.122664      1.000000     -0.031639   \n",
       "capital-loss    0.057745 -0.010260       0.079892     -0.031639      1.000000   \n",
       "hours-per-week  0.068515 -0.018898       0.148422      0.078408      0.054229   \n",
       "\n",
       "                hours-per-week  \n",
       "age                   0.068515  \n",
       "fnlwgt               -0.018898  \n",
       "education-num         0.148422  \n",
       "capital-gain          0.078408  \n",
       "capital-loss          0.054229  \n",
       "hours-per-week        1.000000  "
      ]
     },
     "execution_count": 23,
     "metadata": {},
     "output_type": "execute_result"
    }
   ],
   "source": [
    "df.corr()"
   ]
  },
  {
   "cell_type": "code",
   "execution_count": 24,
   "id": "35e23ff1",
   "metadata": {},
   "outputs": [
    {
     "data": {
      "text/plain": [
       "array([' State-gov', ' Self-emp-not-inc', ' Private', ' Federal-gov',\n",
       "       ' Local-gov', ' ?', ' Self-emp-inc', ' Without-pay',\n",
       "       ' Never-worked'], dtype=object)"
      ]
     },
     "execution_count": 24,
     "metadata": {},
     "output_type": "execute_result"
    }
   ],
   "source": [
    "df['workclass'].unique()"
   ]
  },
  {
   "cell_type": "code",
   "execution_count": 25,
   "id": "6a762f16",
   "metadata": {},
   "outputs": [],
   "source": [
    "df.replace(to_replace = [' State-gov', ' Self-emp-not-inc', ' Private', ' Federal-gov',\n",
    "       ' Local-gov', ' ?', ' Self-emp-inc', ' Without-pay',\n",
    "       ' Never-worked'],value = [1,2,3,4,5,6,7,8,9],inplace = True)"
   ]
  },
  {
   "cell_type": "code",
   "execution_count": 26,
   "id": "6e605a68",
   "metadata": {},
   "outputs": [],
   "source": [
    "x1 = df.workclass.value_counts(normalize = True)"
   ]
  },
  {
   "cell_type": "code",
   "execution_count": 27,
   "id": "67a784f6",
   "metadata": {},
   "outputs": [
    {
     "data": {
      "text/plain": [
       "3    0.696837\n",
       "2    0.078065\n",
       "5    0.064327\n",
       "6    0.056428\n",
       "1    0.039893\n",
       "7    0.034299\n",
       "4    0.029505\n",
       "8    0.000430\n",
       "9    0.000215\n",
       "Name: workclass, dtype: float64"
      ]
     },
     "execution_count": 27,
     "metadata": {},
     "output_type": "execute_result"
    }
   ],
   "source": [
    "x1"
   ]
  },
  {
   "cell_type": "code",
   "execution_count": 28,
   "id": "228b54ba",
   "metadata": {},
   "outputs": [
    {
     "data": {
      "image/png": "[encoded data removed]",
      "text/plain": [
       "<Figure size 720x720 with 1 Axes>"
      ]
     },
     "metadata": {},
     "output_type": "display_data"
    }
   ],
   "source": [
    "plt.figure(figsize = (10,10))\n",
    "plt.pie(x1,labels = x1)\n",
    "plt.show()"
   ]
  },
  {
   "cell_type": "markdown",
   "id": "5059cfee",
   "metadata": {},
   "source": [
    "From the above graph we can conclude that most people are private employees and their percentage is 69.6837\n",
    "\n",
    "State gov employee percentage is only 3.98 %\n",
    "\n",
    "Federal gov employee percentage is only 2.95 %"
   ]
  },
  {
   "cell_type": "code",
   "execution_count": 29,
   "id": "1fd4543d",
   "metadata": {},
   "outputs": [
    {
     "data": {
      "text/plain": [
       "array([' White', ' Black', ' Asian-Pac-Islander', ' Amer-Indian-Eskimo',\n",
       "       ' Other'], dtype=object)"
      ]
     },
     "execution_count": 29,
     "metadata": {},
     "output_type": "execute_result"
    }
   ],
   "source": [
    "df['race'].unique()"
   ]
  },
  {
   "cell_type": "code",
   "execution_count": 30,
   "id": "4890c27a",
   "metadata": {},
   "outputs": [
    {
     "data": {
      "text/plain": [
       " White                 0.854258\n",
       " Black                 0.095952\n",
       " Asian-Pac-Islander    0.031902\n",
       " Amer-Indian-Eskimo    0.009558\n",
       " Other                 0.008329\n",
       "Name: race, dtype: float64"
      ]
     },
     "execution_count": 30,
     "metadata": {},
     "output_type": "execute_result"
    }
   ],
   "source": [
    "df.race.value_counts(normalize = True)"
   ]
  },
  {
   "cell_type": "code",
   "execution_count": 31,
   "id": "bfb832ca",
   "metadata": {},
   "outputs": [
    {
     "data": {
      "image/png": "[encoded data removed]",
      "text/plain": [
       "<Figure size 720x360 with 1 Axes>"
      ]
     },
     "metadata": {
      "needs_background": "light"
     },
     "output_type": "display_data"
    }
   ],
   "source": [
    "plt.figure(figsize = (10,5))\n",
    "sns.countplot(x = 'race', data = df)\n",
    "plt.show()"
   ]
  },
  {
   "cell_type": "markdown",
   "id": "7a269c44",
   "metadata": {},
   "source": [
    "Most of the People's are white in colour and it's percentage is 85.4258 %"
   ]
  },
  {
   "cell_type": "code",
   "execution_count": 32,
   "id": "0eab5ee6",
   "metadata": {},
   "outputs": [
    {
     "data": {
      "text/plain": [
       "array([' Bachelors', ' HS-grad', ' 11th', ' Masters', ' 9th',\n",
       "       ' Some-college', ' Assoc-acdm', ' Assoc-voc', ' 7th-8th',\n",
       "       ' Doctorate', ' Prof-school', ' 5th-6th', ' 10th', ' 1st-4th',\n",
       "       ' Preschool', ' 12th'], dtype=object)"
      ]
     },
     "execution_count": 32,
     "metadata": {},
     "output_type": "execute_result"
    }
   ],
   "source": [
    "df['education'].unique()"
   ]
  },
  {
   "cell_type": "code",
   "execution_count": 33,
   "id": "8a1a4c03",
   "metadata": {},
   "outputs": [],
   "source": [
    "df.replace(to_replace = [' Bachelors', ' HS-grad', ' 11th', ' Masters', ' 9th',\n",
    "       ' Some-college', ' Assoc-acdm', ' Assoc-voc', ' 7th-8th',\n",
    "       ' Doctorate', ' Prof-school', ' 5th-6th', ' 10th', ' 1st-4th',\n",
    "       ' Preschool', ' 12th'],value = [1,2,3,4,5,6,7,8,9,10,11,12,13,14,15,16],inplace = True)"
   ]
  },
  {
   "cell_type": "code",
   "execution_count": 34,
   "id": "03d6b219",
   "metadata": {},
   "outputs": [],
   "source": [
    "x2 = df.education.value_counts()"
   ]
  },
  {
   "cell_type": "code",
   "execution_count": 35,
   "id": "21abb3d7",
   "metadata": {},
   "outputs": [
    {
     "data": {
      "image/png": "[encoded data removed]",
      "text/plain": [
       "<Figure size 720x360 with 1 Axes>"
      ]
     },
     "metadata": {
      "needs_background": "light"
     },
     "output_type": "display_data"
    }
   ],
   "source": [
    "plt.figure(figsize = (10,5))\n",
    "sns.countplot(x = 'education', data = df)\n",
    "plt.show()"
   ]
  },
  {
   "cell_type": "code",
   "execution_count": 36,
   "id": "b39637ea",
   "metadata": {},
   "outputs": [
    {
     "data": {
      "text/plain": [
       "array([' Never-married', ' Married-civ-spouse', ' Divorced',\n",
       "       ' Married-spouse-absent', ' Separated', ' Married-AF-spouse',\n",
       "       ' Widowed'], dtype=object)"
      ]
     },
     "execution_count": 36,
     "metadata": {},
     "output_type": "execute_result"
    }
   ],
   "source": [
    "df['marital-status'].unique()"
   ]
  },
  {
   "cell_type": "code",
   "execution_count": 37,
   "id": "87c9f50a",
   "metadata": {},
   "outputs": [],
   "source": [
    "df.replace(to_replace=[' Never-married', ' Married-civ-spouse', ' Divorced',\n",
    "       ' Married-spouse-absent', ' Separated', ' Married-AF-spouse',\n",
    "       ' Widowed'],value=[1,2,3,4,5,6,7],inplace = True)"
   ]
  },
  {
   "cell_type": "code",
   "execution_count": 38,
   "id": "635ce117",
   "metadata": {},
   "outputs": [
    {
     "data": {
      "text/plain": [
       "array([' Adm-clerical', ' Exec-managerial', ' Handlers-cleaners',\n",
       "       ' Prof-specialty', ' Other-service', ' Sales', ' Craft-repair',\n",
       "       ' Transport-moving', ' Farming-fishing', ' Machine-op-inspct',\n",
       "       ' Tech-support', 6, ' Protective-serv', ' Armed-Forces',\n",
       "       ' Priv-house-serv'], dtype=object)"
      ]
     },
     "execution_count": 38,
     "metadata": {},
     "output_type": "execute_result"
    }
   ],
   "source": [
    "df['occupation'].unique()"
   ]
  },
  {
   "cell_type": "code",
   "execution_count": 39,
   "id": "86765cf7",
   "metadata": {},
   "outputs": [],
   "source": [
    "df.replace(to_replace=[' Adm-clerical', ' Exec-managerial', ' Handlers-cleaners',\n",
    "       ' Prof-specialty', ' Other-service', ' Sales', ' Craft-repair',\n",
    "       ' Transport-moving', ' Farming-fishing', ' Machine-op-inspct',\n",
    "       ' Tech-support', 6, ' Protective-serv', ' Armed-Forces',\n",
    "       ' Priv-house-serv'],value=[1,2,3,4,5,6,7,8,9,10,11,12,13,14,15],inplace = True)"
   ]
  },
  {
   "cell_type": "code",
   "execution_count": 40,
   "id": "9bc79490",
   "metadata": {},
   "outputs": [],
   "source": [
    "x3 = df.occupation.value_counts()"
   ]
  },
  {
   "cell_type": "code",
   "execution_count": 41,
   "id": "fbe92338",
   "metadata": {},
   "outputs": [
    {
     "data": {
      "image/png": "[encoded data removed]",
      "text/plain": [
       "<Figure size 1800x1080 with 1 Axes>"
      ]
     },
     "metadata": {
      "needs_background": "light"
     },
     "output_type": "display_data"
    }
   ],
   "source": [
    "plt.figure(figsize = (25,15))\n",
    "sns.countplot(x = 'occupation', data = df)\n",
    "plt.show()"
   ]
  },
  {
   "cell_type": "code",
   "execution_count": 42,
   "id": "d88f12bf",
   "metadata": {},
   "outputs": [
    {
     "data": {
      "text/plain": [
       "array([' Not-in-family', ' Husband', ' Wife', ' Own-child', ' Unmarried',\n",
       "       ' Other-relative'], dtype=object)"
      ]
     },
     "execution_count": 42,
     "metadata": {},
     "output_type": "execute_result"
    }
   ],
   "source": [
    "df['relationship'].unique()"
   ]
  },
  {
   "cell_type": "code",
   "execution_count": 43,
   "id": "82d02a94",
   "metadata": {},
   "outputs": [],
   "source": [
    "df.replace(to_replace = [' Not-in-family', ' Husband', ' Wife', ' Own-child', ' Unmarried',\n",
    "       ' Other-relative'],value = [1,2,3,4,5,6],inplace = True)"
   ]
  },
  {
   "cell_type": "code",
   "execution_count": 44,
   "id": "e50ad3b2",
   "metadata": {},
   "outputs": [
    {
     "data": {
      "text/plain": [
       "array([' White', ' Black', ' Asian-Pac-Islander', ' Amer-Indian-Eskimo',\n",
       "       ' Other'], dtype=object)"
      ]
     },
     "execution_count": 44,
     "metadata": {},
     "output_type": "execute_result"
    }
   ],
   "source": [
    "df['race'].unique()"
   ]
  },
  {
   "cell_type": "code",
   "execution_count": 45,
   "id": "83be1b13",
   "metadata": {},
   "outputs": [],
   "source": [
    "df.replace(to_replace = [' White', ' Black', ' Asian-Pac-Islander', ' Amer-Indian-Eskimo',\n",
    "       ' Other'] , value = [1,2,3,4,5],inplace = True)"
   ]
  },
  {
   "cell_type": "code",
   "execution_count": 46,
   "id": "eebbd549",
   "metadata": {},
   "outputs": [
    {
     "data": {
      "text/plain": [
       "array([' Male', ' Female'], dtype=object)"
      ]
     },
     "execution_count": 46,
     "metadata": {},
     "output_type": "execute_result"
    }
   ],
   "source": [
    "df['sex'].unique()"
   ]
  },
  {
   "cell_type": "markdown",
   "id": "868c6b9b",
   "metadata": {},
   "source": [
    "Encoding sex feature by 0 and 1. Male is 0 and Female is 1"
   ]
  },
  {
   "cell_type": "code",
   "execution_count": 47,
   "id": "4a7175cc",
   "metadata": {},
   "outputs": [],
   "source": [
    "df.replace(to_replace = [' Male', ' Female'],value = [0,1],inplace = True)"
   ]
  },
  {
   "cell_type": "code",
   "execution_count": 48,
   "id": "ca60127e",
   "metadata": {},
   "outputs": [
    {
     "data": {
      "text/plain": [
       "array([' United-States', ' Cuba', ' Jamaica', ' India', 12, ' Mexico',\n",
       "       ' South', ' Puerto-Rico', ' Honduras', ' England', ' Canada',\n",
       "       ' Germany', ' Iran', ' Philippines', ' Italy', ' Poland',\n",
       "       ' Columbia', ' Cambodia', ' Thailand', ' Ecuador', ' Laos',\n",
       "       ' Taiwan', ' Haiti', ' Portugal', ' Dominican-Republic',\n",
       "       ' El-Salvador', ' France', ' Guatemala', ' China', ' Japan',\n",
       "       ' Yugoslavia', ' Peru', ' Outlying-US(Guam-USVI-etc)', ' Scotland',\n",
       "       ' Trinadad&Tobago', ' Greece', ' Nicaragua', ' Vietnam', ' Hong',\n",
       "       ' Ireland', ' Hungary', ' Holand-Netherlands'], dtype=object)"
      ]
     },
     "execution_count": 48,
     "metadata": {},
     "output_type": "execute_result"
    }
   ],
   "source": [
    "df['country'].unique()"
   ]
  },
  {
   "cell_type": "code",
   "execution_count": 49,
   "id": "a8fe350e",
   "metadata": {},
   "outputs": [],
   "source": [
    "df.replace(to_replace = [' United-States', ' Cuba', ' Jamaica', ' India', 12, ' Mexico',\n",
    "       ' South', ' Puerto-Rico', ' Honduras', ' England', ' Canada',\n",
    "       ' Germany', ' Iran', ' Philippines', ' Italy', ' Poland',\n",
    "       ' Columbia', ' Cambodia', ' Thailand', ' Ecuador', ' Laos',\n",
    "       ' Taiwan', ' Haiti', ' Portugal', ' Dominican-Republic',\n",
    "       ' El-Salvador', ' France', ' Guatemala', ' China', ' Japan',\n",
    "       ' Yugoslavia', ' Peru', ' Outlying-US(Guam-USVI-etc)', ' Scotland',\n",
    "       ' Trinadad&Tobago', ' Greece', ' Nicaragua', ' Vietnam', ' Hong',\n",
    "       ' Ireland', ' Hungary', ' Holand-Netherlands'],value = [1,2,3,4,5,6,7,8,9,10,11,12,13,14,15,16,16,18,19,20,21,22,23,24,25,26,27,28,29,30,31,32,33,34,35,36,37,37,39,40,41,42],inplace = True)"
   ]
  },
  {
   "cell_type": "code",
   "execution_count": 50,
   "id": "5c6fc328",
   "metadata": {},
   "outputs": [
    {
     "data": {
      "text/plain": [
       "1     29153\n",
       "6       639\n",
       "5       582\n",
       "14      198\n",
       "12      137\n",
       "11      121\n",
       "16      119\n",
       "8       114\n",
       "26      106\n",
       "37      101\n",
       "4       100\n",
       "2        95\n",
       "10       90\n",
       "3        81\n",
       "7        80\n",
       "29       75\n",
       "15       73\n",
       "25       70\n",
       "30       62\n",
       "28       62\n",
       "22       51\n",
       "23       44\n",
       "13       43\n",
       "24       37\n",
       "32       31\n",
       "27       29\n",
       "36       29\n",
       "20       28\n",
       "40       24\n",
       "39       20\n",
       "18       19\n",
       "35       19\n",
       "19       18\n",
       "21       18\n",
       "31       16\n",
       "33       14\n",
       "9        13\n",
       "41       13\n",
       "34       12\n",
       "42        1\n",
       "Name: country, dtype: int64"
      ]
     },
     "execution_count": 50,
     "metadata": {},
     "output_type": "execute_result"
    }
   ],
   "source": [
    "df.country.value_counts()"
   ]
  },
  {
   "cell_type": "code",
   "execution_count": 51,
   "id": "ce33a261",
   "metadata": {},
   "outputs": [
    {
     "data": {
      "text/plain": [
       "array([' <=50K', ' >50K'], dtype=object)"
      ]
     },
     "execution_count": 51,
     "metadata": {},
     "output_type": "execute_result"
    }
   ],
   "source": [
    "df['salary'].unique()"
   ]
  },
  {
   "cell_type": "code",
   "execution_count": 52,
   "id": "de38239a",
   "metadata": {},
   "outputs": [],
   "source": [
    "df.replace(to_replace = [' <=50K', ' >50K'],value = [0,1],inplace = True)"
   ]
  },
  {
   "cell_type": "code",
   "execution_count": 53,
   "id": "a281eea0",
   "metadata": {},
   "outputs": [
    {
     "data": {
      "text/html": [
       "<div>\n",
       "<style scoped>\n",
       "    .dataframe tbody tr th:only-of-type {\n",
       "        vertical-align: middle;\n",
       "    }\n",
       "\n",
       "    .dataframe tbody tr th {\n",
       "        vertical-align: top;\n",
       "    }\n",
       "\n",
       "    .dataframe thead th {\n",
       "        text-align: right;\n",
       "    }\n",
       "</style>\n",
       "<table border=\"1\" class=\"dataframe\">\n",
       "  <thead>\n",
       "    <tr style=\"text-align: right;\">\n",
       "      <th></th>\n",
       "      <th>age</th>\n",
       "      <th>workclass</th>\n",
       "      <th>fnlwgt</th>\n",
       "      <th>education</th>\n",
       "      <th>education-num</th>\n",
       "      <th>marital-status</th>\n",
       "      <th>occupation</th>\n",
       "      <th>relationship</th>\n",
       "      <th>race</th>\n",
       "      <th>sex</th>\n",
       "      <th>capital-gain</th>\n",
       "      <th>capital-loss</th>\n",
       "      <th>hours-per-week</th>\n",
       "      <th>country</th>\n",
       "      <th>salary</th>\n",
       "    </tr>\n",
       "  </thead>\n",
       "  <tbody>\n",
       "    <tr>\n",
       "      <th>count</th>\n",
       "      <td>32537.000000</td>\n",
       "      <td>32537.000000</td>\n",
       "      <td>3.253700e+04</td>\n",
       "      <td>32537.000000</td>\n",
       "      <td>32537.000000</td>\n",
       "      <td>32537.000000</td>\n",
       "      <td>32537.000000</td>\n",
       "      <td>32537.000000</td>\n",
       "      <td>32537.000000</td>\n",
       "      <td>32537.000000</td>\n",
       "      <td>32537.000000</td>\n",
       "      <td>32537.000000</td>\n",
       "      <td>32537.000000</td>\n",
       "      <td>32537.000000</td>\n",
       "      <td>32537.000000</td>\n",
       "    </tr>\n",
       "    <tr>\n",
       "      <th>mean</th>\n",
       "      <td>38.585549</td>\n",
       "      <td>3.253803</td>\n",
       "      <td>1.897808e+05</td>\n",
       "      <td>4.128254</td>\n",
       "      <td>9.823585</td>\n",
       "      <td>2.083566</td>\n",
       "      <td>5.269263</td>\n",
       "      <td>2.542859</td>\n",
       "      <td>1.221748</td>\n",
       "      <td>0.330762</td>\n",
       "      <td>1078.443741</td>\n",
       "      <td>87.368227</td>\n",
       "      <td>40.401143</td>\n",
       "      <td>2.284999</td>\n",
       "      <td>0.240926</td>\n",
       "    </tr>\n",
       "    <tr>\n",
       "      <th>std</th>\n",
       "      <td>13.637984</td>\n",
       "      <td>1.119409</td>\n",
       "      <td>1.055565e+05</td>\n",
       "      <td>3.281838</td>\n",
       "      <td>2.745111</td>\n",
       "      <td>1.249659</td>\n",
       "      <td>3.009768</td>\n",
       "      <td>1.437456</td>\n",
       "      <td>0.627447</td>\n",
       "      <td>0.470495</td>\n",
       "      <td>7387.957424</td>\n",
       "      <td>403.101833</td>\n",
       "      <td>12.448263</td>\n",
       "      <td>5.023403</td>\n",
       "      <td>0.427652</td>\n",
       "    </tr>\n",
       "    <tr>\n",
       "      <th>min</th>\n",
       "      <td>17.000000</td>\n",
       "      <td>1.000000</td>\n",
       "      <td>1.228500e+04</td>\n",
       "      <td>1.000000</td>\n",
       "      <td>1.000000</td>\n",
       "      <td>1.000000</td>\n",
       "      <td>1.000000</td>\n",
       "      <td>1.000000</td>\n",
       "      <td>1.000000</td>\n",
       "      <td>0.000000</td>\n",
       "      <td>0.000000</td>\n",
       "      <td>0.000000</td>\n",
       "      <td>1.000000</td>\n",
       "      <td>1.000000</td>\n",
       "      <td>0.000000</td>\n",
       "    </tr>\n",
       "    <tr>\n",
       "      <th>25%</th>\n",
       "      <td>28.000000</td>\n",
       "      <td>3.000000</td>\n",
       "      <td>1.178270e+05</td>\n",
       "      <td>2.000000</td>\n",
       "      <td>9.000000</td>\n",
       "      <td>1.000000</td>\n",
       "      <td>3.000000</td>\n",
       "      <td>1.000000</td>\n",
       "      <td>1.000000</td>\n",
       "      <td>0.000000</td>\n",
       "      <td>0.000000</td>\n",
       "      <td>0.000000</td>\n",
       "      <td>40.000000</td>\n",
       "      <td>1.000000</td>\n",
       "      <td>0.000000</td>\n",
       "    </tr>\n",
       "    <tr>\n",
       "      <th>50%</th>\n",
       "      <td>37.000000</td>\n",
       "      <td>3.000000</td>\n",
       "      <td>1.783560e+05</td>\n",
       "      <td>3.000000</td>\n",
       "      <td>10.000000</td>\n",
       "      <td>2.000000</td>\n",
       "      <td>5.000000</td>\n",
       "      <td>2.000000</td>\n",
       "      <td>1.000000</td>\n",
       "      <td>0.000000</td>\n",
       "      <td>0.000000</td>\n",
       "      <td>0.000000</td>\n",
       "      <td>40.000000</td>\n",
       "      <td>1.000000</td>\n",
       "      <td>0.000000</td>\n",
       "    </tr>\n",
       "    <tr>\n",
       "      <th>75%</th>\n",
       "      <td>48.000000</td>\n",
       "      <td>3.000000</td>\n",
       "      <td>2.369930e+05</td>\n",
       "      <td>5.000000</td>\n",
       "      <td>11.000000</td>\n",
       "      <td>2.000000</td>\n",
       "      <td>7.000000</td>\n",
       "      <td>4.000000</td>\n",
       "      <td>1.000000</td>\n",
       "      <td>1.000000</td>\n",
       "      <td>0.000000</td>\n",
       "      <td>0.000000</td>\n",
       "      <td>45.000000</td>\n",
       "      <td>1.000000</td>\n",
       "      <td>0.000000</td>\n",
       "    </tr>\n",
       "    <tr>\n",
       "      <th>max</th>\n",
       "      <td>90.000000</td>\n",
       "      <td>9.000000</td>\n",
       "      <td>1.484705e+06</td>\n",
       "      <td>16.000000</td>\n",
       "      <td>16.000000</td>\n",
       "      <td>7.000000</td>\n",
       "      <td>15.000000</td>\n",
       "      <td>6.000000</td>\n",
       "      <td>5.000000</td>\n",
       "      <td>1.000000</td>\n",
       "      <td>99999.000000</td>\n",
       "      <td>4356.000000</td>\n",
       "      <td>99.000000</td>\n",
       "      <td>42.000000</td>\n",
       "      <td>1.000000</td>\n",
       "    </tr>\n",
       "  </tbody>\n",
       "</table>\n",
       "</div>"
      ],
      "text/plain": [
       "                age     workclass        fnlwgt     education  education-num  \\\n",
       "count  32537.000000  32537.000000  3.253700e+04  32537.000000   32537.000000   \n",
       "mean      38.585549      3.253803  1.897808e+05      4.128254       9.823585   \n",
       "std       13.637984      1.119409  1.055565e+05      3.281838       2.745111   \n",
       "min       17.000000      1.000000  1.228500e+04      1.000000       1.000000   \n",
       "25%       28.000000      3.000000  1.178270e+05      2.000000       9.000000   \n",
       "50%       37.000000      3.000000  1.783560e+05      3.000000      10.000000   \n",
       "75%       48.000000      3.000000  2.369930e+05      5.000000      11.000000   \n",
       "max       90.000000      9.000000  1.484705e+06     16.000000      16.000000   \n",
       "\n",
       "       marital-status    occupation  relationship          race           sex  \\\n",
       "count    32537.000000  32537.000000  32537.000000  32537.000000  32537.000000   \n",
       "mean         2.083566      5.269263      2.542859      1.221748      0.330762   \n",
       "std          1.249659      3.009768      1.437456      0.627447      0.470495   \n",
       "min          1.000000      1.000000      1.000000      1.000000      0.000000   \n",
       "25%          1.000000      3.000000      1.000000      1.000000      0.000000   \n",
       "50%          2.000000      5.000000      2.000000      1.000000      0.000000   \n",
       "75%          2.000000      7.000000      4.000000      1.000000      1.000000   \n",
       "max          7.000000     15.000000      6.000000      5.000000      1.000000   \n",
       "\n",
       "       capital-gain  capital-loss  hours-per-week       country        salary  \n",
       "count  32537.000000  32537.000000    32537.000000  32537.000000  32537.000000  \n",
       "mean    1078.443741     87.368227       40.401143      2.284999      0.240926  \n",
       "std     7387.957424    403.101833       12.448263      5.023403      0.427652  \n",
       "min        0.000000      0.000000        1.000000      1.000000      0.000000  \n",
       "25%        0.000000      0.000000       40.000000      1.000000      0.000000  \n",
       "50%        0.000000      0.000000       40.000000      1.000000      0.000000  \n",
       "75%        0.000000      0.000000       45.000000      1.000000      0.000000  \n",
       "max    99999.000000   4356.000000       99.000000     42.000000      1.000000  "
      ]
     },
     "execution_count": 53,
     "metadata": {},
     "output_type": "execute_result"
    }
   ],
   "source": [
    "df.describe()"
   ]
  },
  {
   "cell_type": "code",
   "execution_count": 54,
   "id": "3638f7da",
   "metadata": {},
   "outputs": [
    {
     "data": {
      "text/html": [
       "<div>\n",
       "<style scoped>\n",
       "    .dataframe tbody tr th:only-of-type {\n",
       "        vertical-align: middle;\n",
       "    }\n",
       "\n",
       "    .dataframe tbody tr th {\n",
       "        vertical-align: top;\n",
       "    }\n",
       "\n",
       "    .dataframe thead th {\n",
       "        text-align: right;\n",
       "    }\n",
       "</style>\n",
       "<table border=\"1\" class=\"dataframe\">\n",
       "  <thead>\n",
       "    <tr style=\"text-align: right;\">\n",
       "      <th></th>\n",
       "      <th>age</th>\n",
       "      <th>workclass</th>\n",
       "      <th>fnlwgt</th>\n",
       "      <th>education</th>\n",
       "      <th>education-num</th>\n",
       "      <th>marital-status</th>\n",
       "      <th>occupation</th>\n",
       "      <th>relationship</th>\n",
       "      <th>race</th>\n",
       "      <th>sex</th>\n",
       "      <th>capital-gain</th>\n",
       "      <th>capital-loss</th>\n",
       "      <th>hours-per-week</th>\n",
       "      <th>country</th>\n",
       "      <th>salary</th>\n",
       "    </tr>\n",
       "  </thead>\n",
       "  <tbody>\n",
       "    <tr>\n",
       "      <th>age</th>\n",
       "      <td>1.000000</td>\n",
       "      <td>0.081451</td>\n",
       "      <td>-0.076447</td>\n",
       "      <td>0.015669</td>\n",
       "      <td>0.042203</td>\n",
       "      <td>0.425516</td>\n",
       "      <td>-0.002582</td>\n",
       "      <td>-0.218007</td>\n",
       "      <td>-0.040399</td>\n",
       "      <td>-0.088708</td>\n",
       "      <td>0.077676</td>\n",
       "      <td>0.057745</td>\n",
       "      <td>0.068649</td>\n",
       "      <td>-0.011163</td>\n",
       "      <td>0.234037</td>\n",
       "    </tr>\n",
       "    <tr>\n",
       "      <th>workclass</th>\n",
       "      <td>0.081451</td>\n",
       "      <td>1.000000</td>\n",
       "      <td>-0.006359</td>\n",
       "      <td>0.003120</td>\n",
       "      <td>0.023123</td>\n",
       "      <td>0.032977</td>\n",
       "      <td>-0.045709</td>\n",
       "      <td>0.006419</td>\n",
       "      <td>0.005724</td>\n",
       "      <td>0.007678</td>\n",
       "      <td>0.048283</td>\n",
       "      <td>0.016981</td>\n",
       "      <td>0.003799</td>\n",
       "      <td>-0.010251</td>\n",
       "      <td>0.067762</td>\n",
       "    </tr>\n",
       "    <tr>\n",
       "      <th>fnlwgt</th>\n",
       "      <td>-0.076447</td>\n",
       "      <td>-0.006359</td>\n",
       "      <td>1.000000</td>\n",
       "      <td>0.017424</td>\n",
       "      <td>-0.044231</td>\n",
       "      <td>-0.023545</td>\n",
       "      <td>0.010349</td>\n",
       "      <td>0.017248</td>\n",
       "      <td>0.000660</td>\n",
       "      <td>-0.027089</td>\n",
       "      <td>0.000429</td>\n",
       "      <td>-0.010260</td>\n",
       "      <td>-0.018427</td>\n",
       "      <td>0.035943</td>\n",
       "      <td>-0.009502</td>\n",
       "    </tr>\n",
       "    <tr>\n",
       "      <th>education</th>\n",
       "      <td>0.015669</td>\n",
       "      <td>0.003120</td>\n",
       "      <td>0.017424</td>\n",
       "      <td>1.000000</td>\n",
       "      <td>-0.318057</td>\n",
       "      <td>0.011791</td>\n",
       "      <td>0.050422</td>\n",
       "      <td>0.035206</td>\n",
       "      <td>0.027175</td>\n",
       "      <td>-0.003787</td>\n",
       "      <td>0.032549</td>\n",
       "      <td>0.000372</td>\n",
       "      <td>-0.041898</td>\n",
       "      <td>0.051781</td>\n",
       "      <td>-0.030602</td>\n",
       "    </tr>\n",
       "    <tr>\n",
       "      <th>education-num</th>\n",
       "      <td>0.042203</td>\n",
       "      <td>0.023123</td>\n",
       "      <td>-0.044231</td>\n",
       "      <td>-0.318057</td>\n",
       "      <td>1.000000</td>\n",
       "      <td>-0.063472</td>\n",
       "      <td>-0.211967</td>\n",
       "      <td>-0.128791</td>\n",
       "      <td>-0.036102</td>\n",
       "      <td>-0.022451</td>\n",
       "      <td>0.120823</td>\n",
       "      <td>0.074379</td>\n",
       "      <td>0.141556</td>\n",
       "      <td>-0.057357</td>\n",
       "      <td>0.316892</td>\n",
       "    </tr>\n",
       "    <tr>\n",
       "      <th>marital-status</th>\n",
       "      <td>0.425516</td>\n",
       "      <td>0.032977</td>\n",
       "      <td>-0.023545</td>\n",
       "      <td>0.011791</td>\n",
       "      <td>-0.063472</td>\n",
       "      <td>1.000000</td>\n",
       "      <td>-0.008818</td>\n",
       "      <td>0.028796</td>\n",
       "      <td>0.012938</td>\n",
       "      <td>0.181950</td>\n",
       "      <td>0.004460</td>\n",
       "      <td>0.006882</td>\n",
       "      <td>-0.000357</td>\n",
       "      <td>0.002424</td>\n",
       "      <td>0.002181</td>\n",
       "    </tr>\n",
       "    <tr>\n",
       "      <th>occupation</th>\n",
       "      <td>-0.002582</td>\n",
       "      <td>-0.045709</td>\n",
       "      <td>0.010349</td>\n",
       "      <td>0.050422</td>\n",
       "      <td>-0.211967</td>\n",
       "      <td>-0.008818</td>\n",
       "      <td>1.000000</td>\n",
       "      <td>-0.045274</td>\n",
       "      <td>0.007068</td>\n",
       "      <td>-0.201717</td>\n",
       "      <td>-0.042231</td>\n",
       "      <td>-0.018152</td>\n",
       "      <td>0.040251</td>\n",
       "      <td>0.023423</td>\n",
       "      <td>-0.075499</td>\n",
       "    </tr>\n",
       "    <tr>\n",
       "      <th>relationship</th>\n",
       "      <td>-0.218007</td>\n",
       "      <td>0.006419</td>\n",
       "      <td>0.017248</td>\n",
       "      <td>0.035206</td>\n",
       "      <td>-0.128791</td>\n",
       "      <td>0.028796</td>\n",
       "      <td>-0.045274</td>\n",
       "      <td>1.000000</td>\n",
       "      <td>0.096857</td>\n",
       "      <td>0.273568</td>\n",
       "      <td>-0.044107</td>\n",
       "      <td>-0.050586</td>\n",
       "      <td>-0.184659</td>\n",
       "      <td>0.042798</td>\n",
       "      <td>-0.171516</td>\n",
       "    </tr>\n",
       "    <tr>\n",
       "      <th>race</th>\n",
       "      <td>-0.040399</td>\n",
       "      <td>0.005724</td>\n",
       "      <td>0.000660</td>\n",
       "      <td>0.027175</td>\n",
       "      <td>-0.036102</td>\n",
       "      <td>0.012938</td>\n",
       "      <td>0.007068</td>\n",
       "      <td>0.096857</td>\n",
       "      <td>1.000000</td>\n",
       "      <td>0.068043</td>\n",
       "      <td>-0.008002</td>\n",
       "      <td>-0.017208</td>\n",
       "      <td>-0.032623</td>\n",
       "      <td>0.241663</td>\n",
       "      <td>-0.067727</td>\n",
       "    </tr>\n",
       "    <tr>\n",
       "      <th>sex</th>\n",
       "      <td>-0.088708</td>\n",
       "      <td>0.007678</td>\n",
       "      <td>-0.027089</td>\n",
       "      <td>-0.003787</td>\n",
       "      <td>-0.022451</td>\n",
       "      <td>0.181950</td>\n",
       "      <td>-0.201717</td>\n",
       "      <td>0.273568</td>\n",
       "      <td>0.068043</td>\n",
       "      <td>1.000000</td>\n",
       "      <td>-0.048489</td>\n",
       "      <td>-0.045571</td>\n",
       "      <td>-0.228687</td>\n",
       "      <td>0.005525</td>\n",
       "      <td>-0.215969</td>\n",
       "    </tr>\n",
       "    <tr>\n",
       "      <th>capital-gain</th>\n",
       "      <td>0.077676</td>\n",
       "      <td>0.048283</td>\n",
       "      <td>0.000429</td>\n",
       "      <td>0.032549</td>\n",
       "      <td>0.120823</td>\n",
       "      <td>0.004460</td>\n",
       "      <td>-0.042231</td>\n",
       "      <td>-0.044107</td>\n",
       "      <td>-0.008002</td>\n",
       "      <td>-0.048489</td>\n",
       "      <td>1.000000</td>\n",
       "      <td>-0.031639</td>\n",
       "      <td>0.078148</td>\n",
       "      <td>-0.009065</td>\n",
       "      <td>0.223336</td>\n",
       "    </tr>\n",
       "    <tr>\n",
       "      <th>capital-loss</th>\n",
       "      <td>0.057745</td>\n",
       "      <td>0.016981</td>\n",
       "      <td>-0.010260</td>\n",
       "      <td>0.000372</td>\n",
       "      <td>0.074379</td>\n",
       "      <td>0.006882</td>\n",
       "      <td>-0.018152</td>\n",
       "      <td>-0.050586</td>\n",
       "      <td>-0.017208</td>\n",
       "      <td>-0.045571</td>\n",
       "      <td>-0.031639</td>\n",
       "      <td>1.000000</td>\n",
       "      <td>0.053634</td>\n",
       "      <td>-0.004277</td>\n",
       "      <td>0.150501</td>\n",
       "    </tr>\n",
       "    <tr>\n",
       "      <th>hours-per-week</th>\n",
       "      <td>0.068649</td>\n",
       "      <td>0.003799</td>\n",
       "      <td>-0.018427</td>\n",
       "      <td>-0.041898</td>\n",
       "      <td>0.141556</td>\n",
       "      <td>-0.000357</td>\n",
       "      <td>0.040251</td>\n",
       "      <td>-0.184659</td>\n",
       "      <td>-0.032623</td>\n",
       "      <td>-0.228687</td>\n",
       "      <td>0.078148</td>\n",
       "      <td>0.053634</td>\n",
       "      <td>1.000000</td>\n",
       "      <td>-0.009338</td>\n",
       "      <td>0.229030</td>\n",
       "    </tr>\n",
       "    <tr>\n",
       "      <th>country</th>\n",
       "      <td>-0.011163</td>\n",
       "      <td>-0.010251</td>\n",
       "      <td>0.035943</td>\n",
       "      <td>0.051781</td>\n",
       "      <td>-0.057357</td>\n",
       "      <td>0.002424</td>\n",
       "      <td>0.023423</td>\n",
       "      <td>0.042798</td>\n",
       "      <td>0.241663</td>\n",
       "      <td>0.005525</td>\n",
       "      <td>-0.009065</td>\n",
       "      <td>-0.004277</td>\n",
       "      <td>-0.009338</td>\n",
       "      <td>1.000000</td>\n",
       "      <td>-0.028086</td>\n",
       "    </tr>\n",
       "    <tr>\n",
       "      <th>salary</th>\n",
       "      <td>0.234037</td>\n",
       "      <td>0.067762</td>\n",
       "      <td>-0.009502</td>\n",
       "      <td>-0.030602</td>\n",
       "      <td>0.316892</td>\n",
       "      <td>0.002181</td>\n",
       "      <td>-0.075499</td>\n",
       "      <td>-0.171516</td>\n",
       "      <td>-0.067727</td>\n",
       "      <td>-0.215969</td>\n",
       "      <td>0.223336</td>\n",
       "      <td>0.150501</td>\n",
       "      <td>0.229030</td>\n",
       "      <td>-0.028086</td>\n",
       "      <td>1.000000</td>\n",
       "    </tr>\n",
       "  </tbody>\n",
       "</table>\n",
       "</div>"
      ],
      "text/plain": [
       "                     age  workclass    fnlwgt  education  education-num  \\\n",
       "age             1.000000   0.081451 -0.076447   0.015669       0.042203   \n",
       "workclass       0.081451   1.000000 -0.006359   0.003120       0.023123   \n",
       "fnlwgt         -0.076447  -0.006359  1.000000   0.017424      -0.044231   \n",
       "education       0.015669   0.003120  0.017424   1.000000      -0.318057   \n",
       "education-num   0.042203   0.023123 -0.044231  -0.318057       1.000000   \n",
       "marital-status  0.425516   0.032977 -0.023545   0.011791      -0.063472   \n",
       "occupation     -0.002582  -0.045709  0.010349   0.050422      -0.211967   \n",
       "relationship   -0.218007   0.006419  0.017248   0.035206      -0.128791   \n",
       "race           -0.040399   0.005724  0.000660   0.027175      -0.036102   \n",
       "sex            -0.088708   0.007678 -0.027089  -0.003787      -0.022451   \n",
       "capital-gain    0.077676   0.048283  0.000429   0.032549       0.120823   \n",
       "capital-loss    0.057745   0.016981 -0.010260   0.000372       0.074379   \n",
       "hours-per-week  0.068649   0.003799 -0.018427  -0.041898       0.141556   \n",
       "country        -0.011163  -0.010251  0.035943   0.051781      -0.057357   \n",
       "salary          0.234037   0.067762 -0.009502  -0.030602       0.316892   \n",
       "\n",
       "                marital-status  occupation  relationship      race       sex  \\\n",
       "age                   0.425516   -0.002582     -0.218007 -0.040399 -0.088708   \n",
       "workclass             0.032977   -0.045709      0.006419  0.005724  0.007678   \n",
       "fnlwgt               -0.023545    0.010349      0.017248  0.000660 -0.027089   \n",
       "education             0.011791    0.050422      0.035206  0.027175 -0.003787   \n",
       "education-num        -0.063472   -0.211967     -0.128791 -0.036102 -0.022451   \n",
       "marital-status        1.000000   -0.008818      0.028796  0.012938  0.181950   \n",
       "occupation           -0.008818    1.000000     -0.045274  0.007068 -0.201717   \n",
       "relationship          0.028796   -0.045274      1.000000  0.096857  0.273568   \n",
       "race                  0.012938    0.007068      0.096857  1.000000  0.068043   \n",
       "sex                   0.181950   -0.201717      0.273568  0.068043  1.000000   \n",
       "capital-gain          0.004460   -0.042231     -0.044107 -0.008002 -0.048489   \n",
       "capital-loss          0.006882   -0.018152     -0.050586 -0.017208 -0.045571   \n",
       "hours-per-week       -0.000357    0.040251     -0.184659 -0.032623 -0.228687   \n",
       "country               0.002424    0.023423      0.042798  0.241663  0.005525   \n",
       "salary                0.002181   -0.075499     -0.171516 -0.067727 -0.215969   \n",
       "\n",
       "                capital-gain  capital-loss  hours-per-week   country    salary  \n",
       "age                 0.077676      0.057745        0.068649 -0.011163  0.234037  \n",
       "workclass           0.048283      0.016981        0.003799 -0.010251  0.067762  \n",
       "fnlwgt              0.000429     -0.010260       -0.018427  0.035943 -0.009502  \n",
       "education           0.032549      0.000372       -0.041898  0.051781 -0.030602  \n",
       "education-num       0.120823      0.074379        0.141556 -0.057357  0.316892  \n",
       "marital-status      0.004460      0.006882       -0.000357  0.002424  0.002181  \n",
       "occupation         -0.042231     -0.018152        0.040251  0.023423 -0.075499  \n",
       "relationship       -0.044107     -0.050586       -0.184659  0.042798 -0.171516  \n",
       "race               -0.008002     -0.017208       -0.032623  0.241663 -0.067727  \n",
       "sex                -0.048489     -0.045571       -0.228687  0.005525 -0.215969  \n",
       "capital-gain        1.000000     -0.031639        0.078148 -0.009065  0.223336  \n",
       "capital-loss       -0.031639      1.000000        0.053634 -0.004277  0.150501  \n",
       "hours-per-week      0.078148      0.053634        1.000000 -0.009338  0.229030  \n",
       "country            -0.009065     -0.004277       -0.009338  1.000000 -0.028086  \n",
       "salary              0.223336      0.150501        0.229030 -0.028086  1.000000  "
      ]
     },
     "execution_count": 54,
     "metadata": {},
     "output_type": "execute_result"
    }
   ],
   "source": [
    "df.corr()"
   ]
  },
  {
   "cell_type": "markdown",
   "id": "0e789170",
   "metadata": {},
   "source": [
    "Checking for Outliers"
   ]
  },
  {
   "cell_type": "code",
   "execution_count": 55,
   "id": "989c58de",
   "metadata": {},
   "outputs": [
    {
     "data": {
      "text/plain": [
       "<AxesSubplot:>"
      ]
     },
     "execution_count": 55,
     "metadata": {},
     "output_type": "execute_result"
    },
    {
     "data": {
      "image/png": "[encoded data removed]",
      "text/plain": [
       "<Figure size 1440x1440 with 1 Axes>"
      ]
     },
     "metadata": {
      "needs_background": "light"
     },
     "output_type": "display_data"
    }
   ],
   "source": [
    "fig,ax = plt.subplots(figsize = (20,20))\n",
    "sns.boxplot(data = df,ax = ax)"
   ]
  },
  {
   "cell_type": "code",
   "execution_count": 56,
   "id": "ca0432cc",
   "metadata": {},
   "outputs": [
    {
     "name": "stdout",
     "output_type": "stream",
     "text": [
      "Outliers from IQR method:  [79, 90, 80, 81, 90, 88, 90, 90, 80, 90, 81, 82, 79, 81, 80, 83, 90, 90, 79, 81, 90, 80, 90, 90, 79, 79, 84, 90, 80, 90, 81, 83, 84, 81, 79, 85, 82, 79, 80, 90, 90, 90, 84, 80, 90, 90, 79, 84, 90, 79, 90, 90, 90, 82, 81, 90, 84, 79, 81, 82, 81, 80, 90, 80, 84, 82, 79, 90, 84, 90, 83, 79, 81, 80, 79, 80, 79, 80, 90, 90, 80, 90, 90, 81, 83, 82, 90, 90, 81, 80, 80, 90, 79, 80, 82, 85, 80, 79, 90, 81, 79, 80, 79, 81, 82, 88, 90, 82, 88, 84, 83, 79, 86, 90, 90, 82, 83, 81, 79, 90, 80, 81, 79, 84, 84, 79, 90, 80, 81, 81, 81, 90, 87, 90, 80, 80, 82, 90, 90, 85, 82, 81]\n"
     ]
    }
   ],
   "source": [
    "outliers = []\n",
    "def age_outliers(df):\n",
    "    data = sorted(df.age)\n",
    "    q1 = np.percentile(df.age, 25)\n",
    "    q3 = np.percentile(df.age, 75)\n",
    "    # print(q1, q3)\n",
    "    IQR = q3-q1\n",
    "    lwr_bound = q1-(1.5*IQR)\n",
    "    upr_bound = q3+(1.5*IQR)\n",
    "    # print(lwr_bound, upr_bound)\n",
    "    for i in df.age: \n",
    "        if (i<lwr_bound or i>upr_bound):\n",
    "            outliers.append(i)\n",
    "    return outliers# Driver code\n",
    "sample_outliers = age_outliers(df)\n",
    "print(\"Outliers from IQR method: \", sample_outliers)"
   ]
  },
  {
   "cell_type": "code",
   "execution_count": 57,
   "id": "e635b079",
   "metadata": {},
   "outputs": [
    {
     "name": "stdout",
     "output_type": "stream",
     "text": [
      "Outliers from IQR method:  [79, 90, 80, 81, 90, 88, 90, 90, 80, 90, 81, 82, 79, 81, 80, 83, 90, 90, 79, 81, 90, 80, 90, 90, 79, 79, 84, 90, 80, 90, 81, 83, 84, 81, 79, 85, 82, 79, 80, 90, 90, 90, 84, 80, 90, 90, 79, 84, 90, 79, 90, 90, 90, 82, 81, 90, 84, 79, 81, 82, 81, 80, 90, 80, 84, 82, 79, 90, 84, 90, 83, 79, 81, 80, 79, 80, 79, 80, 90, 90, 80, 90, 90, 81, 83, 82, 90, 90, 81, 80, 80, 90, 79, 80, 82, 85, 80, 79, 90, 81, 79, 80, 79, 81, 82, 88, 90, 82, 88, 84, 83, 79, 86, 90, 90, 82, 83, 81, 79, 90, 80, 81, 79, 84, 84, 79, 90, 80, 81, 81, 81, 90, 87, 90, 80, 80, 82, 90, 90, 85, 82, 81]\n"
     ]
    }
   ],
   "source": [
    "outliers = []\n",
    "def fnlwgt_outliers(df):\n",
    "    data = sorted(df.fnlwgt)\n",
    "    q1 = np.percentile(df.fnlwgt, 25)\n",
    "    q3 = np.percentile(df.fnlwgt, 75)\n",
    "    # print(q1, q3)\n",
    "    IQR = q3-q1\n",
    "    lwr_bound = q1-(1.5*IQR)\n",
    "    upr_bound = q3+(1.5*IQR)\n",
    "    # print(lwr_bound, upr_bound)\n",
    "    for i in df.fnlwgt: \n",
    "        if (i<lwr_bound or i>upr_bound):\n",
    "            outliers.append(i)\n",
    "    return outliers# Driver code\n",
    "sample_outliers = age_outliers(df)\n",
    "print(\"Outliers from IQR method: \", sample_outliers)"
   ]
  },
  {
   "cell_type": "code",
   "execution_count": 58,
   "id": "9685281f",
   "metadata": {},
   "outputs": [],
   "source": [
    "median = df.loc[df['age']<75, 'age'].median()\n",
    "df.loc[df.age > 75, 'age'] = np.nan\n",
    "df.fillna(median,inplace=True)"
   ]
  },
  {
   "cell_type": "code",
   "execution_count": 59,
   "id": "b61d954b",
   "metadata": {},
   "outputs": [
    {
     "name": "stdout",
     "output_type": "stream",
     "text": [
      "Outliers from IQR method:  []\n"
     ]
    }
   ],
   "source": [
    "outliers = []\n",
    "def age_outliers(df):\n",
    "    data = sorted(df.age)\n",
    "    q1 = np.percentile(df.age, 25)\n",
    "    q3 = np.percentile(df.age, 75)\n",
    "    # print(q1, q3)\n",
    "    IQR = q3-q1\n",
    "    lwr_bound = q1-(1.5*IQR)\n",
    "    upr_bound = q3+(1.5*IQR)\n",
    "    # print(lwr_bound, upr_bound)\n",
    "    for i in df.age: \n",
    "        if (i<lwr_bound or i>upr_bound):\n",
    "            outliers.append(i)\n",
    "    return outliers# Driver code\n",
    "sample_outliers = age_outliers(df)\n",
    "print(\"Outliers from IQR method: \", sample_outliers)"
   ]
  },
  {
   "cell_type": "code",
   "execution_count": 60,
   "id": "c6cb0a7b",
   "metadata": {},
   "outputs": [
    {
     "data": {
      "text/plain": [
       "<AxesSubplot:>"
      ]
     },
     "execution_count": 60,
     "metadata": {},
     "output_type": "execute_result"
    },
    {
     "data": {
      "image/png": "[encoded data removed]",
      "text/plain": [
       "<Figure size 1440x1440 with 1 Axes>"
      ]
     },
     "metadata": {
      "needs_background": "light"
     },
     "output_type": "display_data"
    }
   ],
   "source": [
    "fig,ax = plt.subplots(figsize = (20,20))\n",
    "sns.boxplot(data = df,ax = ax)"
   ]
  },
  {
   "cell_type": "code",
   "execution_count": 61,
   "id": "5ef68b7c",
   "metadata": {},
   "outputs": [
    {
     "data": {
      "text/html": [
       "<div>\n",
       "<style scoped>\n",
       "    .dataframe tbody tr th:only-of-type {\n",
       "        vertical-align: middle;\n",
       "    }\n",
       "\n",
       "    .dataframe tbody tr th {\n",
       "        vertical-align: top;\n",
       "    }\n",
       "\n",
       "    .dataframe thead th {\n",
       "        text-align: right;\n",
       "    }\n",
       "</style>\n",
       "<table border=\"1\" class=\"dataframe\">\n",
       "  <thead>\n",
       "    <tr style=\"text-align: right;\">\n",
       "      <th></th>\n",
       "      <th>age</th>\n",
       "      <th>workclass</th>\n",
       "      <th>fnlwgt</th>\n",
       "      <th>education</th>\n",
       "      <th>education-num</th>\n",
       "      <th>marital-status</th>\n",
       "      <th>occupation</th>\n",
       "      <th>relationship</th>\n",
       "      <th>race</th>\n",
       "      <th>sex</th>\n",
       "      <th>capital-gain</th>\n",
       "      <th>capital-loss</th>\n",
       "      <th>hours-per-week</th>\n",
       "      <th>country</th>\n",
       "      <th>salary</th>\n",
       "    </tr>\n",
       "  </thead>\n",
       "  <tbody>\n",
       "    <tr>\n",
       "      <th>0</th>\n",
       "      <td>39.0</td>\n",
       "      <td>1</td>\n",
       "      <td>77516</td>\n",
       "      <td>1</td>\n",
       "      <td>13</td>\n",
       "      <td>1</td>\n",
       "      <td>1</td>\n",
       "      <td>1</td>\n",
       "      <td>1</td>\n",
       "      <td>0</td>\n",
       "      <td>2174</td>\n",
       "      <td>0</td>\n",
       "      <td>40</td>\n",
       "      <td>1</td>\n",
       "      <td>0</td>\n",
       "    </tr>\n",
       "    <tr>\n",
       "      <th>1</th>\n",
       "      <td>50.0</td>\n",
       "      <td>2</td>\n",
       "      <td>83311</td>\n",
       "      <td>1</td>\n",
       "      <td>13</td>\n",
       "      <td>2</td>\n",
       "      <td>2</td>\n",
       "      <td>2</td>\n",
       "      <td>1</td>\n",
       "      <td>0</td>\n",
       "      <td>0</td>\n",
       "      <td>0</td>\n",
       "      <td>13</td>\n",
       "      <td>1</td>\n",
       "      <td>0</td>\n",
       "    </tr>\n",
       "    <tr>\n",
       "      <th>2</th>\n",
       "      <td>38.0</td>\n",
       "      <td>3</td>\n",
       "      <td>215646</td>\n",
       "      <td>2</td>\n",
       "      <td>9</td>\n",
       "      <td>3</td>\n",
       "      <td>3</td>\n",
       "      <td>1</td>\n",
       "      <td>1</td>\n",
       "      <td>0</td>\n",
       "      <td>0</td>\n",
       "      <td>0</td>\n",
       "      <td>40</td>\n",
       "      <td>1</td>\n",
       "      <td>0</td>\n",
       "    </tr>\n",
       "    <tr>\n",
       "      <th>3</th>\n",
       "      <td>53.0</td>\n",
       "      <td>3</td>\n",
       "      <td>234721</td>\n",
       "      <td>3</td>\n",
       "      <td>7</td>\n",
       "      <td>2</td>\n",
       "      <td>3</td>\n",
       "      <td>2</td>\n",
       "      <td>2</td>\n",
       "      <td>0</td>\n",
       "      <td>0</td>\n",
       "      <td>0</td>\n",
       "      <td>40</td>\n",
       "      <td>1</td>\n",
       "      <td>0</td>\n",
       "    </tr>\n",
       "    <tr>\n",
       "      <th>4</th>\n",
       "      <td>28.0</td>\n",
       "      <td>3</td>\n",
       "      <td>338409</td>\n",
       "      <td>1</td>\n",
       "      <td>13</td>\n",
       "      <td>2</td>\n",
       "      <td>4</td>\n",
       "      <td>3</td>\n",
       "      <td>2</td>\n",
       "      <td>1</td>\n",
       "      <td>0</td>\n",
       "      <td>0</td>\n",
       "      <td>40</td>\n",
       "      <td>2</td>\n",
       "      <td>0</td>\n",
       "    </tr>\n",
       "    <tr>\n",
       "      <th>...</th>\n",
       "      <td>...</td>\n",
       "      <td>...</td>\n",
       "      <td>...</td>\n",
       "      <td>...</td>\n",
       "      <td>...</td>\n",
       "      <td>...</td>\n",
       "      <td>...</td>\n",
       "      <td>...</td>\n",
       "      <td>...</td>\n",
       "      <td>...</td>\n",
       "      <td>...</td>\n",
       "      <td>...</td>\n",
       "      <td>...</td>\n",
       "      <td>...</td>\n",
       "      <td>...</td>\n",
       "    </tr>\n",
       "    <tr>\n",
       "      <th>32556</th>\n",
       "      <td>27.0</td>\n",
       "      <td>3</td>\n",
       "      <td>257302</td>\n",
       "      <td>7</td>\n",
       "      <td>5</td>\n",
       "      <td>2</td>\n",
       "      <td>11</td>\n",
       "      <td>3</td>\n",
       "      <td>1</td>\n",
       "      <td>1</td>\n",
       "      <td>0</td>\n",
       "      <td>0</td>\n",
       "      <td>38</td>\n",
       "      <td>1</td>\n",
       "      <td>0</td>\n",
       "    </tr>\n",
       "    <tr>\n",
       "      <th>32557</th>\n",
       "      <td>40.0</td>\n",
       "      <td>3</td>\n",
       "      <td>154374</td>\n",
       "      <td>2</td>\n",
       "      <td>9</td>\n",
       "      <td>2</td>\n",
       "      <td>10</td>\n",
       "      <td>2</td>\n",
       "      <td>1</td>\n",
       "      <td>0</td>\n",
       "      <td>0</td>\n",
       "      <td>0</td>\n",
       "      <td>40</td>\n",
       "      <td>1</td>\n",
       "      <td>1</td>\n",
       "    </tr>\n",
       "    <tr>\n",
       "      <th>32558</th>\n",
       "      <td>58.0</td>\n",
       "      <td>3</td>\n",
       "      <td>151910</td>\n",
       "      <td>2</td>\n",
       "      <td>9</td>\n",
       "      <td>7</td>\n",
       "      <td>1</td>\n",
       "      <td>5</td>\n",
       "      <td>1</td>\n",
       "      <td>1</td>\n",
       "      <td>0</td>\n",
       "      <td>0</td>\n",
       "      <td>40</td>\n",
       "      <td>1</td>\n",
       "      <td>0</td>\n",
       "    </tr>\n",
       "    <tr>\n",
       "      <th>32559</th>\n",
       "      <td>22.0</td>\n",
       "      <td>3</td>\n",
       "      <td>201490</td>\n",
       "      <td>2</td>\n",
       "      <td>9</td>\n",
       "      <td>1</td>\n",
       "      <td>1</td>\n",
       "      <td>4</td>\n",
       "      <td>1</td>\n",
       "      <td>0</td>\n",
       "      <td>0</td>\n",
       "      <td>0</td>\n",
       "      <td>20</td>\n",
       "      <td>1</td>\n",
       "      <td>0</td>\n",
       "    </tr>\n",
       "    <tr>\n",
       "      <th>32560</th>\n",
       "      <td>52.0</td>\n",
       "      <td>7</td>\n",
       "      <td>287927</td>\n",
       "      <td>2</td>\n",
       "      <td>9</td>\n",
       "      <td>2</td>\n",
       "      <td>2</td>\n",
       "      <td>3</td>\n",
       "      <td>1</td>\n",
       "      <td>1</td>\n",
       "      <td>15024</td>\n",
       "      <td>0</td>\n",
       "      <td>40</td>\n",
       "      <td>1</td>\n",
       "      <td>1</td>\n",
       "    </tr>\n",
       "  </tbody>\n",
       "</table>\n",
       "<p>32537 rows × 15 columns</p>\n",
       "</div>"
      ],
      "text/plain": [
       "        age  workclass  fnlwgt  education  education-num  marital-status  \\\n",
       "0      39.0          1   77516          1             13               1   \n",
       "1      50.0          2   83311          1             13               2   \n",
       "2      38.0          3  215646          2              9               3   \n",
       "3      53.0          3  234721          3              7               2   \n",
       "4      28.0          3  338409          1             13               2   \n",
       "...     ...        ...     ...        ...            ...             ...   \n",
       "32556  27.0          3  257302          7              5               2   \n",
       "32557  40.0          3  154374          2              9               2   \n",
       "32558  58.0          3  151910          2              9               7   \n",
       "32559  22.0          3  201490          2              9               1   \n",
       "32560  52.0          7  287927          2              9               2   \n",
       "\n",
       "       occupation  relationship  race  sex  capital-gain  capital-loss  \\\n",
       "0               1             1     1    0          2174             0   \n",
       "1               2             2     1    0             0             0   \n",
       "2               3             1     1    0             0             0   \n",
       "3               3             2     2    0             0             0   \n",
       "4               4             3     2    1             0             0   \n",
       "...           ...           ...   ...  ...           ...           ...   \n",
       "32556          11             3     1    1             0             0   \n",
       "32557          10             2     1    0             0             0   \n",
       "32558           1             5     1    1             0             0   \n",
       "32559           1             4     1    0             0             0   \n",
       "32560           2             3     1    1         15024             0   \n",
       "\n",
       "       hours-per-week  country  salary  \n",
       "0                  40        1       0  \n",
       "1                  13        1       0  \n",
       "2                  40        1       0  \n",
       "3                  40        1       0  \n",
       "4                  40        2       0  \n",
       "...               ...      ...     ...  \n",
       "32556              38        1       0  \n",
       "32557              40        1       1  \n",
       "32558              40        1       0  \n",
       "32559              20        1       0  \n",
       "32560              40        1       1  \n",
       "\n",
       "[32537 rows x 15 columns]"
      ]
     },
     "execution_count": 61,
     "metadata": {},
     "output_type": "execute_result"
    }
   ],
   "source": [
    "df"
   ]
  },
  {
   "cell_type": "code",
   "execution_count": 62,
   "id": "a1435ecb",
   "metadata": {},
   "outputs": [
    {
     "data": {
      "text/plain": [
       "0        0\n",
       "1        0\n",
       "2        0\n",
       "3        0\n",
       "4        0\n",
       "        ..\n",
       "32556    0\n",
       "32557    1\n",
       "32558    0\n",
       "32559    0\n",
       "32560    1\n",
       "Name: salary, Length: 32537, dtype: int64"
      ]
     },
     "execution_count": 62,
     "metadata": {},
     "output_type": "execute_result"
    }
   ],
   "source": [
    "df.salary"
   ]
  },
  {
   "cell_type": "code",
   "execution_count": 63,
   "id": "16c37cf8",
   "metadata": {},
   "outputs": [
    {
     "data": {
      "text/plain": [
       "age   salary\n",
       "17.0  0         1.000000\n",
       "18.0  0         1.000000\n",
       "19.0  0         0.997175\n",
       "      1         0.002825\n",
       "20.0  0         1.000000\n",
       "                  ...   \n",
       "73.0  1         0.156250\n",
       "74.0  0         0.764706\n",
       "      1         0.235294\n",
       "75.0  0         0.844444\n",
       "      1         0.155556\n",
       "Name: salary, Length: 115, dtype: float64"
      ]
     },
     "execution_count": 63,
     "metadata": {},
     "output_type": "execute_result"
    }
   ],
   "source": [
    "df['salary'].groupby(df['age']).value_counts(normalize=True)"
   ]
  },
  {
   "cell_type": "code",
   "execution_count": 64,
   "id": "7ad4b771",
   "metadata": {},
   "outputs": [
    {
     "data": {
      "text/plain": [
       "array([39., 50., 38., 53., 28., 37., 49., 52., 31., 42., 30., 23., 32.,\n",
       "       40., 34., 25., 43., 54., 35., 59., 56., 19., 20., 45., 22., 48.,\n",
       "       21., 24., 57., 44., 41., 29., 18., 47., 46., 36., 27., 67., 33.,\n",
       "       17., 55., 61., 70., 64., 71., 68., 66., 51., 58., 26., 60., 75.,\n",
       "       65., 62., 63., 72., 74., 69., 73.])"
      ]
     },
     "execution_count": 64,
     "metadata": {},
     "output_type": "execute_result"
    }
   ],
   "source": [
    "df['age'].unique()"
   ]
  },
  {
   "cell_type": "code",
   "execution_count": 65,
   "id": "65cfc4a8",
   "metadata": {},
   "outputs": [
    {
     "data": {
      "image/png": "[encoded data removed]",
      "text/plain": [
       "<Figure size 864x432 with 1 Axes>"
      ]
     },
     "metadata": {
      "needs_background": "light"
     },
     "output_type": "display_data"
    }
   ],
   "source": [
    "plt.figure(figsize=(12,6))\n",
    "ax = sns.countplot(data = df,x='age',hue='salary',palette='rocket')\n",
    "plt.xlabel(\"age\", fontsize= 12)\n",
    "plt.ylabel(\"No of Clients\", fontsize= 12)\n",
    "plt.ylim(0,12000)\n",
    "plt.xticks( fontsize = 11)\n",
    "for p in ax.patches:\n",
    "    ax.annotate((p.get_height()), (p.get_x()+0.11, p.get_height()+500))\n",
    "plt.show()"
   ]
  },
  {
   "cell_type": "code",
   "execution_count": 66,
   "id": "7c4f253a",
   "metadata": {},
   "outputs": [
    {
     "data": {
      "text/plain": [
       "array([0, 1])"
      ]
     },
     "execution_count": 66,
     "metadata": {},
     "output_type": "execute_result"
    }
   ],
   "source": [
    "df['sex'].unique()"
   ]
  },
  {
   "cell_type": "code",
   "execution_count": 67,
   "id": "a4295d58",
   "metadata": {},
   "outputs": [
    {
     "data": {
      "image/png": "[encoded data removed]",
      "text/plain": [
       "<Figure size 864x432 with 1 Axes>"
      ]
     },
     "metadata": {
      "needs_background": "light"
     },
     "output_type": "display_data"
    }
   ],
   "source": [
    "plt.figure(figsize=(12,6))\n",
    "ax = sns.countplot(data = df,x='sex',hue='salary',palette='rocket')\n",
    "plt.xlabel(\"sex\", fontsize= 12)\n",
    "plt.ylabel(\"No of People\", fontsize= 12)\n",
    "plt.ylim(0,12000)\n",
    "plt.xticks([0,1],['male','female'], fontsize = 11)\n",
    "for p in ax.patches:\n",
    "    ax.annotate((p.get_height()), (p.get_x()+0.11, p.get_height()+500))\n",
    "plt.show()"
   ]
  },
  {
   "cell_type": "code",
   "execution_count": 68,
   "id": "10ee38f8",
   "metadata": {},
   "outputs": [
    {
     "data": {
      "text/plain": [
       "array([1, 2, 3, 4, 5, 7])"
      ]
     },
     "execution_count": 68,
     "metadata": {},
     "output_type": "execute_result"
    }
   ],
   "source": [
    "df['marital-status'].unique()"
   ]
  },
  {
   "cell_type": "code",
   "execution_count": 69,
   "id": "ec09f56d",
   "metadata": {},
   "outputs": [
    {
     "data": {
      "text/plain": [
       "marital-status  salary\n",
       "1               0         0.953970\n",
       "                1         0.046030\n",
       "2               0         0.553106\n",
       "                1         0.446894\n",
       "3               0         0.895744\n",
       "                1         0.104256\n",
       "4               0         0.918660\n",
       "                1         0.081340\n",
       "5               0         0.927481\n",
       "                1         0.072519\n",
       "7               0         0.914401\n",
       "                1         0.085599\n",
       "Name: salary, dtype: float64"
      ]
     },
     "execution_count": 69,
     "metadata": {},
     "output_type": "execute_result"
    }
   ],
   "source": [
    "df['salary'].groupby(df['marital-status']).value_counts(normalize=True)"
   ]
  },
  {
   "cell_type": "code",
   "execution_count": 70,
   "id": "a63b816e",
   "metadata": {},
   "outputs": [
    {
     "data": {
      "image/png": "[encoded data removed]",
      "text/plain": [
       "<Figure size 864x432 with 1 Axes>"
      ]
     },
     "metadata": {
      "needs_background": "light"
     },
     "output_type": "display_data"
    }
   ],
   "source": [
    "plt.figure(figsize=(12,6))\n",
    "ax = sns.countplot(data = df,x='marital-status',hue='salary',palette='rocket')\n",
    "plt.xlabel(\"sex\", fontsize= 12)\n",
    "plt.ylabel(\"No of People\", fontsize= 12)\n",
    "plt.ylim(0,12000)\n",
    "plt.xticks([0,1,2,3,4,5,6,],['Never-married', ' Married-civ-spouse', ' Divorced',\n",
    "       ' Married-spouse-absent', ' Separated', ' Married-AF-spouse',\n",
    "       ' Widowed'], fontsize = 11)\n",
    "for p in ax.patches:\n",
    "    ax.annotate((p.get_height()), (p.get_x()+0.11, p.get_height()+500))\n",
    "plt.show()"
   ]
  },
  {
   "cell_type": "code",
   "execution_count": 71,
   "id": "e17ff43a",
   "metadata": {},
   "outputs": [
    {
     "data": {
      "text/plain": [
       "array([ 1,  2,  3,  4,  5,  7,  8,  9, 10, 11, 13, 14, 15, 16])"
      ]
     },
     "execution_count": 71,
     "metadata": {},
     "output_type": "execute_result"
    }
   ],
   "source": [
    "df['education'].unique()"
   ]
  },
  {
   "cell_type": "code",
   "execution_count": 72,
   "id": "fa33d7c8",
   "metadata": {},
   "outputs": [
    {
     "data": {
      "text/plain": [
       "education  salary\n",
       "1          0         0.585092\n",
       "           1         0.414908\n",
       "2          0         0.840480\n",
       "           1         0.159520\n",
       "3          0         0.948936\n",
       "           1         0.051064\n",
       "4          1         0.556911\n",
       "           0         0.443089\n",
       "5          0         0.824188\n",
       "           1         0.175812\n",
       "7          0         0.751640\n",
       "           1         0.248360\n",
       "8          0         0.738784\n",
       "           1         0.261216\n",
       "9          0         0.937984\n",
       "           1         0.062016\n",
       "10         1         0.740920\n",
       "           0         0.259080\n",
       "11         1         0.734375\n",
       "           0         0.265625\n",
       "13         0         0.933548\n",
       "           1         0.066452\n",
       "14         0         0.963855\n",
       "           1         0.036145\n",
       "15         0         1.000000\n",
       "16         0         0.923788\n",
       "           1         0.076212\n",
       "Name: salary, dtype: float64"
      ]
     },
     "execution_count": 72,
     "metadata": {},
     "output_type": "execute_result"
    }
   ],
   "source": [
    "df['salary'].groupby(df['education']).value_counts(normalize=True)"
   ]
  },
  {
   "cell_type": "code",
   "execution_count": 73,
   "id": "ccad21fe",
   "metadata": {},
   "outputs": [
    {
     "data": {
      "image/png": "[encoded data removed]",
      "text/plain": [
       "<Figure size 1080x576 with 1 Axes>"
      ]
     },
     "metadata": {
      "needs_background": "light"
     },
     "output_type": "display_data"
    }
   ],
   "source": [
    "plt.figure(figsize=(15,8))\n",
    "ax = sns.countplot(data = df,x='education',hue='salary',palette='rocket')\n",
    "plt.xlabel(\"education\", fontsize= 12)\n",
    "plt.ylabel(\"No of People\", fontsize= 12)\n",
    "plt.ylim(0,12000)\n",
    "plt.xticks([0,1,2,3,4,5,6,7,8,9,10,11,12,13,14,15],[' Bachelors', ' HS-grad', ' 11th', ' Masters', ' 9th',\n",
    "       ' Some-college', ' Assoc-acdm', ' Assoc-voc', ' 7th-8th',\n",
    "       ' Doctorate', ' Prof-school', ' 5th-6th', ' 10th', ' 1st-4th',\n",
    "       ' Preschool', ' 12th'], fontsize = 11)\n",
    "for p in ax.patches:\n",
    "    ax.annotate((p.get_height()), (p.get_x()+0.11, p.get_height()+500))\n",
    "plt.show()"
   ]
  },
  {
   "cell_type": "code",
   "execution_count": 74,
   "id": "313b5973",
   "metadata": {},
   "outputs": [
    {
     "data": {
      "text/plain": [
       "array([1, 2, 3, 4, 5])"
      ]
     },
     "execution_count": 74,
     "metadata": {},
     "output_type": "execute_result"
    }
   ],
   "source": [
    "df['race'].unique()"
   ]
  },
  {
   "cell_type": "code",
   "execution_count": 75,
   "id": "cde5fd18",
   "metadata": {},
   "outputs": [
    {
     "data": {
      "text/plain": [
       "race  salary\n",
       "1     0         0.744019\n",
       "      1         0.255981\n",
       "2     0         0.876041\n",
       "      1         0.123959\n",
       "3     0         0.734104\n",
       "      1         0.265896\n",
       "4     0         0.884244\n",
       "      1         0.115756\n",
       "5     0         0.907749\n",
       "      1         0.092251\n",
       "Name: salary, dtype: float64"
      ]
     },
     "execution_count": 75,
     "metadata": {},
     "output_type": "execute_result"
    }
   ],
   "source": [
    "df['salary'].groupby(df['race']).value_counts(normalize=True)"
   ]
  },
  {
   "cell_type": "code",
   "execution_count": 76,
   "id": "8cfbeeb2",
   "metadata": {},
   "outputs": [
    {
     "data": {
      "image/png": "[encoded data removed]",
      "text/plain": [
       "<Figure size 1080x576 with 1 Axes>"
      ]
     },
     "metadata": {
      "needs_background": "light"
     },
     "output_type": "display_data"
    }
   ],
   "source": [
    "plt.figure(figsize=(15,8))\n",
    "ax = sns.countplot(data = df,x='race',hue='salary',palette='rocket')\n",
    "plt.xlabel(\"race\", fontsize= 12)\n",
    "plt.ylabel(\"No of People\", fontsize= 12)\n",
    "plt.ylim(0,12000)\n",
    "plt.xticks([0,1,2,3,4,],[' White', ' Black', ' Asian-Pac-Islander', ' Amer-Indian-Eskimo',\n",
    "       ' Other'], fontsize = 11)\n",
    "for p in ax.patches:\n",
    "    ax.annotate((p.get_height()), (p.get_x()+0.11, p.get_height()+500))\n",
    "plt.show()"
   ]
  },
  {
   "cell_type": "code",
   "execution_count": 77,
   "id": "91f3b9e6",
   "metadata": {},
   "outputs": [
    {
     "data": {
      "text/plain": [
       "array([ 1,  2,  3,  4,  5,  6,  7,  8,  9, 10, 11, 13, 14, 15])"
      ]
     },
     "execution_count": 77,
     "metadata": {},
     "output_type": "execute_result"
    }
   ],
   "source": [
    "df['occupation'].unique()"
   ]
  },
  {
   "cell_type": "code",
   "execution_count": 78,
   "id": "58287702",
   "metadata": {},
   "outputs": [
    {
     "data": {
      "text/plain": [
       "occupation  salary\n",
       "1           0         0.865446\n",
       "            1         0.134554\n",
       "2           0         0.515867\n",
       "            1         0.484133\n",
       "3           0         0.937180\n",
       "            1         0.062820\n",
       "4           0         0.550774\n",
       "            1         0.449226\n",
       "5           0         0.936112\n",
       "            1         0.063888\n",
       "6           0         0.730685\n",
       "            1         0.269315\n",
       "7           0         0.773083\n",
       "            1         0.226917\n",
       "8           0         0.799624\n",
       "            1         0.200376\n",
       "9           0         0.884073\n",
       "            1         0.115927\n",
       "10          0         0.875500\n",
       "            1         0.124500\n",
       "11          0         0.694714\n",
       "            1         0.305286\n",
       "13          0         0.674884\n",
       "            1         0.325116\n",
       "14          0         0.888889\n",
       "            1         0.111111\n",
       "15          0         0.993197\n",
       "            1         0.006803\n",
       "Name: salary, dtype: float64"
      ]
     },
     "execution_count": 78,
     "metadata": {},
     "output_type": "execute_result"
    }
   ],
   "source": [
    "df['salary'].groupby(df['occupation']).value_counts(normalize=True)"
   ]
  },
  {
   "cell_type": "code",
   "execution_count": 79,
   "id": "54ce00be",
   "metadata": {},
   "outputs": [
    {
     "data": {
      "image/png": "[encoded data removed]",
      "text/plain": [
       "<Figure size 1080x576 with 1 Axes>"
      ]
     },
     "metadata": {
      "needs_background": "light"
     },
     "output_type": "display_data"
    }
   ],
   "source": [
    "plt.figure(figsize=(15,8))\n",
    "ax = sns.countplot(data = df,x='occupation',hue='salary',palette='rocket')\n",
    "plt.xlabel(\"occupation\", fontsize= 12)\n",
    "plt.ylabel(\"No of People\", fontsize= 12)\n",
    "plt.ylim(0,12000)\n",
    "plt.xticks([0,1,2,3,4,5,6,7,8,9,10,11,12,13,14],[' Adm-clerical', ' Exec-managerial', ' Handlers-cleaners',\n",
    "       ' Prof-specialty', ' Other-service', ' Sales', ' Craft-repair',\n",
    "       ' Transport-moving', ' Farming-fishing', ' Machine-op-inspct',\n",
    "       ' Tech-support', 6, ' Protective-serv', ' Armed-Forces',\n",
    "       ' Priv-house-serv'], fontsize = 11)\n",
    "for p in ax.patches:\n",
    "    ax.annotate((p.get_height()), (p.get_x()+0.11, p.get_height()+500))\n",
    "plt.show()"
   ]
  },
  {
   "cell_type": "code",
   "execution_count": 80,
   "id": "bebc98df",
   "metadata": {},
   "outputs": [
    {
     "data": {
      "text/plain": [
       "array([1, 2, 3, 4, 5, 7, 8, 9])"
      ]
     },
     "execution_count": 80,
     "metadata": {},
     "output_type": "execute_result"
    }
   ],
   "source": [
    "df['workclass'].unique()"
   ]
  },
  {
   "cell_type": "code",
   "execution_count": 81,
   "id": "015ab8ff",
   "metadata": {},
   "outputs": [
    {
     "data": {
      "text/plain": [
       "workclass  salary\n",
       "1          0         0.728043\n",
       "           1         0.271957\n",
       "2          0         0.714961\n",
       "           1         0.285039\n",
       "3          0         0.781193\n",
       "           1         0.218807\n",
       "4          0         0.613542\n",
       "           1         0.386458\n",
       "5          0         0.794350\n",
       "           1         0.205650\n",
       "7          1         0.557348\n",
       "           0         0.442652\n",
       "8          0         1.000000\n",
       "9          0         1.000000\n",
       "Name: salary, dtype: float64"
      ]
     },
     "execution_count": 81,
     "metadata": {},
     "output_type": "execute_result"
    }
   ],
   "source": [
    "df['salary'].groupby(df['workclass']).value_counts(normalize=True)"
   ]
  },
  {
   "cell_type": "code",
   "execution_count": 82,
   "id": "3a6319a4",
   "metadata": {},
   "outputs": [
    {
     "data": {
      "image/png": "[encoded data removed]",
      "text/plain": [
       "<Figure size 1080x576 with 1 Axes>"
      ]
     },
     "metadata": {
      "needs_background": "light"
     },
     "output_type": "display_data"
    }
   ],
   "source": [
    "plt.figure(figsize=(15,8))\n",
    "ax = sns.countplot(data = df,x='occupation',hue='salary',palette='rocket')\n",
    "plt.xlabel(\"occupation\", fontsize= 12)\n",
    "plt.ylabel(\"No of People\", fontsize= 12)\n",
    "plt.ylim(0,12000)\n",
    "plt.xticks([0,1,2,3,4,5,6,7,8],[' State-gov', ' Self-emp-not-inc', ' Private', ' Federal-gov',\n",
    "       ' Local-gov', 'others', ' Self-emp-inc', ' Without-pay',\n",
    "       ' Never-worked'], fontsize = 11)\n",
    "for p in ax.patches:\n",
    "    ax.annotate((p.get_height()), (p.get_x()+0.11, p.get_height()+500))\n",
    "plt.show()"
   ]
  },
  {
   "cell_type": "code",
   "execution_count": 83,
   "id": "bbe18db3",
   "metadata": {},
   "outputs": [
    {
     "data": {
      "image/png": "[encoded data removed]",
      "text/plain": [
       "<Figure size 864x288 with 1 Axes>"
      ]
     },
     "metadata": {
      "needs_background": "light"
     },
     "output_type": "display_data"
    }
   ],
   "source": [
    "plt.figure(figsize=(12,4))\n",
    "\n",
    "ax = sns.barplot(x = \"age\", y = \"salary\", hue = \"sex\", data = df, palette = 'rocket', ci = None)\n",
    "\n",
    "plt.ylabel(\"No of People\", fontsize= 12)\n",
    "plt.ylim(0,0.5)\n",
    "plt.xticks([0,1],['Male', 'Female'], fontsize = 12)\n",
    "\n",
    "for p in ax.patches:\n",
    "    ax.annotate(\"%.2f\" %(p.get_height()), (p.get_x()+0.06, p.get_height()+0.03),fontsize=12)\n",
    "\n",
    "plt.show()"
   ]
  },
  {
   "cell_type": "code",
   "execution_count": 84,
   "id": "14e0a46e",
   "metadata": {},
   "outputs": [],
   "source": [
    "x = df.drop(columns = ['salary'])"
   ]
  },
  {
   "cell_type": "code",
   "execution_count": 86,
   "id": "5da34e12",
   "metadata": {},
   "outputs": [],
   "source": [
    "y = df.salary"
   ]
  },
  {
   "cell_type": "code",
   "execution_count": 87,
   "id": "f5dcb4b8",
   "metadata": {},
   "outputs": [
    {
     "data": {
      "text/plain": [
       "0        0\n",
       "1        0\n",
       "2        0\n",
       "3        0\n",
       "4        0\n",
       "        ..\n",
       "32556    0\n",
       "32557    1\n",
       "32558    0\n",
       "32559    0\n",
       "32560    1\n",
       "Name: salary, Length: 32537, dtype: int64"
      ]
     },
     "execution_count": 87,
     "metadata": {},
     "output_type": "execute_result"
    }
   ],
   "source": [
    "y"
   ]
  },
  {
   "cell_type": "code",
   "execution_count": 88,
   "id": "649dd10b",
   "metadata": {},
   "outputs": [
    {
     "data": {
      "text/plain": [
       "(32537, 14)"
      ]
     },
     "execution_count": 88,
     "metadata": {},
     "output_type": "execute_result"
    }
   ],
   "source": [
    "x.shape"
   ]
  },
  {
   "cell_type": "code",
   "execution_count": 89,
   "id": "d3ad6a4b",
   "metadata": {},
   "outputs": [
    {
     "data": {
      "text/plain": [
       "(32537,)"
      ]
     },
     "execution_count": 89,
     "metadata": {},
     "output_type": "execute_result"
    }
   ],
   "source": [
    "y.shape"
   ]
  },
  {
   "cell_type": "code",
   "execution_count": 93,
   "id": "a88dade3",
   "metadata": {},
   "outputs": [],
   "source": [
    "from sklearn.preprocessing import StandardScaler"
   ]
  },
  {
   "cell_type": "code",
   "execution_count": 96,
   "id": "b8a2a679",
   "metadata": {},
   "outputs": [],
   "source": [
    "sc = StandardScaler()"
   ]
  },
  {
   "cell_type": "code",
   "execution_count": 97,
   "id": "dbf69158",
   "metadata": {},
   "outputs": [
    {
     "data": {
      "text/plain": [
       "StandardScaler()"
      ]
     },
     "execution_count": 97,
     "metadata": {},
     "output_type": "execute_result"
    }
   ],
   "source": [
    "sc.fit(df)"
   ]
  },
  {
   "cell_type": "code",
   "execution_count": 98,
   "id": "f95a78f5",
   "metadata": {},
   "outputs": [
    {
     "data": {
      "text/plain": [
       "array([[ 0.05626008, -2.01341793, -1.06356884, ..., -0.03222534,\n",
       "        -0.25580635, -0.56337742],\n",
       "       [ 0.89385893, -1.12007561, -1.00866848, ..., -2.20123597,\n",
       "        -0.25580635, -0.56337742],\n",
       "       [-0.01988527, -0.22673328,  0.24503992, ..., -0.03222534,\n",
       "        -0.25580635, -0.56337742],\n",
       "       ...,\n",
       "       [ 1.50302173, -0.22673328, -0.35877886, ..., -0.03222534,\n",
       "        -0.25580635, -0.56337742],\n",
       "       [-1.23821087, -0.22673328,  0.11092955, ..., -1.63889988,\n",
       "        -0.25580635, -0.56337742],\n",
       "       [ 1.04614963,  3.346636  ,  0.92981187, ..., -0.03222534,\n",
       "        -0.25580635,  1.77500901]])"
      ]
     },
     "execution_count": 98,
     "metadata": {},
     "output_type": "execute_result"
    }
   ],
   "source": [
    "sc.transform(df)"
   ]
  },
  {
   "cell_type": "code",
   "execution_count": 99,
   "id": "715d15ec",
   "metadata": {},
   "outputs": [],
   "source": [
    "x = df.drop(columns=['salary'])"
   ]
  },
  {
   "cell_type": "code",
   "execution_count": 100,
   "id": "2704a053",
   "metadata": {},
   "outputs": [
    {
     "data": {
      "text/html": [
       "<div>\n",
       "<style scoped>\n",
       "    .dataframe tbody tr th:only-of-type {\n",
       "        vertical-align: middle;\n",
       "    }\n",
       "\n",
       "    .dataframe tbody tr th {\n",
       "        vertical-align: top;\n",
       "    }\n",
       "\n",
       "    .dataframe thead th {\n",
       "        text-align: right;\n",
       "    }\n",
       "</style>\n",
       "<table border=\"1\" class=\"dataframe\">\n",
       "  <thead>\n",
       "    <tr style=\"text-align: right;\">\n",
       "      <th></th>\n",
       "      <th>age</th>\n",
       "      <th>workclass</th>\n",
       "      <th>fnlwgt</th>\n",
       "      <th>education</th>\n",
       "      <th>education-num</th>\n",
       "      <th>marital-status</th>\n",
       "      <th>occupation</th>\n",
       "      <th>relationship</th>\n",
       "      <th>race</th>\n",
       "      <th>sex</th>\n",
       "      <th>capital-gain</th>\n",
       "      <th>capital-loss</th>\n",
       "      <th>hours-per-week</th>\n",
       "      <th>country</th>\n",
       "    </tr>\n",
       "  </thead>\n",
       "  <tbody>\n",
       "    <tr>\n",
       "      <th>0</th>\n",
       "      <td>39.0</td>\n",
       "      <td>1</td>\n",
       "      <td>77516</td>\n",
       "      <td>1</td>\n",
       "      <td>13</td>\n",
       "      <td>1</td>\n",
       "      <td>1</td>\n",
       "      <td>1</td>\n",
       "      <td>1</td>\n",
       "      <td>0</td>\n",
       "      <td>2174</td>\n",
       "      <td>0</td>\n",
       "      <td>40</td>\n",
       "      <td>1</td>\n",
       "    </tr>\n",
       "    <tr>\n",
       "      <th>1</th>\n",
       "      <td>50.0</td>\n",
       "      <td>2</td>\n",
       "      <td>83311</td>\n",
       "      <td>1</td>\n",
       "      <td>13</td>\n",
       "      <td>2</td>\n",
       "      <td>2</td>\n",
       "      <td>2</td>\n",
       "      <td>1</td>\n",
       "      <td>0</td>\n",
       "      <td>0</td>\n",
       "      <td>0</td>\n",
       "      <td>13</td>\n",
       "      <td>1</td>\n",
       "    </tr>\n",
       "    <tr>\n",
       "      <th>2</th>\n",
       "      <td>38.0</td>\n",
       "      <td>3</td>\n",
       "      <td>215646</td>\n",
       "      <td>2</td>\n",
       "      <td>9</td>\n",
       "      <td>3</td>\n",
       "      <td>3</td>\n",
       "      <td>1</td>\n",
       "      <td>1</td>\n",
       "      <td>0</td>\n",
       "      <td>0</td>\n",
       "      <td>0</td>\n",
       "      <td>40</td>\n",
       "      <td>1</td>\n",
       "    </tr>\n",
       "    <tr>\n",
       "      <th>3</th>\n",
       "      <td>53.0</td>\n",
       "      <td>3</td>\n",
       "      <td>234721</td>\n",
       "      <td>3</td>\n",
       "      <td>7</td>\n",
       "      <td>2</td>\n",
       "      <td>3</td>\n",
       "      <td>2</td>\n",
       "      <td>2</td>\n",
       "      <td>0</td>\n",
       "      <td>0</td>\n",
       "      <td>0</td>\n",
       "      <td>40</td>\n",
       "      <td>1</td>\n",
       "    </tr>\n",
       "    <tr>\n",
       "      <th>4</th>\n",
       "      <td>28.0</td>\n",
       "      <td>3</td>\n",
       "      <td>338409</td>\n",
       "      <td>1</td>\n",
       "      <td>13</td>\n",
       "      <td>2</td>\n",
       "      <td>4</td>\n",
       "      <td>3</td>\n",
       "      <td>2</td>\n",
       "      <td>1</td>\n",
       "      <td>0</td>\n",
       "      <td>0</td>\n",
       "      <td>40</td>\n",
       "      <td>2</td>\n",
       "    </tr>\n",
       "    <tr>\n",
       "      <th>...</th>\n",
       "      <td>...</td>\n",
       "      <td>...</td>\n",
       "      <td>...</td>\n",
       "      <td>...</td>\n",
       "      <td>...</td>\n",
       "      <td>...</td>\n",
       "      <td>...</td>\n",
       "      <td>...</td>\n",
       "      <td>...</td>\n",
       "      <td>...</td>\n",
       "      <td>...</td>\n",
       "      <td>...</td>\n",
       "      <td>...</td>\n",
       "      <td>...</td>\n",
       "    </tr>\n",
       "    <tr>\n",
       "      <th>32556</th>\n",
       "      <td>27.0</td>\n",
       "      <td>3</td>\n",
       "      <td>257302</td>\n",
       "      <td>7</td>\n",
       "      <td>5</td>\n",
       "      <td>2</td>\n",
       "      <td>11</td>\n",
       "      <td>3</td>\n",
       "      <td>1</td>\n",
       "      <td>1</td>\n",
       "      <td>0</td>\n",
       "      <td>0</td>\n",
       "      <td>38</td>\n",
       "      <td>1</td>\n",
       "    </tr>\n",
       "    <tr>\n",
       "      <th>32557</th>\n",
       "      <td>40.0</td>\n",
       "      <td>3</td>\n",
       "      <td>154374</td>\n",
       "      <td>2</td>\n",
       "      <td>9</td>\n",
       "      <td>2</td>\n",
       "      <td>10</td>\n",
       "      <td>2</td>\n",
       "      <td>1</td>\n",
       "      <td>0</td>\n",
       "      <td>0</td>\n",
       "      <td>0</td>\n",
       "      <td>40</td>\n",
       "      <td>1</td>\n",
       "    </tr>\n",
       "    <tr>\n",
       "      <th>32558</th>\n",
       "      <td>58.0</td>\n",
       "      <td>3</td>\n",
       "      <td>151910</td>\n",
       "      <td>2</td>\n",
       "      <td>9</td>\n",
       "      <td>7</td>\n",
       "      <td>1</td>\n",
       "      <td>5</td>\n",
       "      <td>1</td>\n",
       "      <td>1</td>\n",
       "      <td>0</td>\n",
       "      <td>0</td>\n",
       "      <td>40</td>\n",
       "      <td>1</td>\n",
       "    </tr>\n",
       "    <tr>\n",
       "      <th>32559</th>\n",
       "      <td>22.0</td>\n",
       "      <td>3</td>\n",
       "      <td>201490</td>\n",
       "      <td>2</td>\n",
       "      <td>9</td>\n",
       "      <td>1</td>\n",
       "      <td>1</td>\n",
       "      <td>4</td>\n",
       "      <td>1</td>\n",
       "      <td>0</td>\n",
       "      <td>0</td>\n",
       "      <td>0</td>\n",
       "      <td>20</td>\n",
       "      <td>1</td>\n",
       "    </tr>\n",
       "    <tr>\n",
       "      <th>32560</th>\n",
       "      <td>52.0</td>\n",
       "      <td>7</td>\n",
       "      <td>287927</td>\n",
       "      <td>2</td>\n",
       "      <td>9</td>\n",
       "      <td>2</td>\n",
       "      <td>2</td>\n",
       "      <td>3</td>\n",
       "      <td>1</td>\n",
       "      <td>1</td>\n",
       "      <td>15024</td>\n",
       "      <td>0</td>\n",
       "      <td>40</td>\n",
       "      <td>1</td>\n",
       "    </tr>\n",
       "  </tbody>\n",
       "</table>\n",
       "<p>32537 rows × 14 columns</p>\n",
       "</div>"
      ],
      "text/plain": [
       "        age  workclass  fnlwgt  education  education-num  marital-status  \\\n",
       "0      39.0          1   77516          1             13               1   \n",
       "1      50.0          2   83311          1             13               2   \n",
       "2      38.0          3  215646          2              9               3   \n",
       "3      53.0          3  234721          3              7               2   \n",
       "4      28.0          3  338409          1             13               2   \n",
       "...     ...        ...     ...        ...            ...             ...   \n",
       "32556  27.0          3  257302          7              5               2   \n",
       "32557  40.0          3  154374          2              9               2   \n",
       "32558  58.0          3  151910          2              9               7   \n",
       "32559  22.0          3  201490          2              9               1   \n",
       "32560  52.0          7  287927          2              9               2   \n",
       "\n",
       "       occupation  relationship  race  sex  capital-gain  capital-loss  \\\n",
       "0               1             1     1    0          2174             0   \n",
       "1               2             2     1    0             0             0   \n",
       "2               3             1     1    0             0             0   \n",
       "3               3             2     2    0             0             0   \n",
       "4               4             3     2    1             0             0   \n",
       "...           ...           ...   ...  ...           ...           ...   \n",
       "32556          11             3     1    1             0             0   \n",
       "32557          10             2     1    0             0             0   \n",
       "32558           1             5     1    1             0             0   \n",
       "32559           1             4     1    0             0             0   \n",
       "32560           2             3     1    1         15024             0   \n",
       "\n",
       "       hours-per-week  country  \n",
       "0                  40        1  \n",
       "1                  13        1  \n",
       "2                  40        1  \n",
       "3                  40        1  \n",
       "4                  40        2  \n",
       "...               ...      ...  \n",
       "32556              38        1  \n",
       "32557              40        1  \n",
       "32558              40        1  \n",
       "32559              20        1  \n",
       "32560              40        1  \n",
       "\n",
       "[32537 rows x 14 columns]"
      ]
     },
     "execution_count": 100,
     "metadata": {},
     "output_type": "execute_result"
    }
   ],
   "source": [
    "x"
   ]
  },
  {
   "cell_type": "code",
   "execution_count": 102,
   "id": "96236912",
   "metadata": {},
   "outputs": [],
   "source": [
    "y = df.salary"
   ]
  },
  {
   "cell_type": "code",
   "execution_count": 103,
   "id": "8d747643",
   "metadata": {},
   "outputs": [
    {
     "data": {
      "text/plain": [
       "0        0\n",
       "1        0\n",
       "2        0\n",
       "3        0\n",
       "4        0\n",
       "        ..\n",
       "32556    0\n",
       "32557    1\n",
       "32558    0\n",
       "32559    0\n",
       "32560    1\n",
       "Name: salary, Length: 32537, dtype: int64"
      ]
     },
     "execution_count": 103,
     "metadata": {},
     "output_type": "execute_result"
    }
   ],
   "source": [
    "y"
   ]
  },
  {
   "cell_type": "code",
   "execution_count": 104,
   "id": "891a845b",
   "metadata": {},
   "outputs": [],
   "source": [
    "from sklearn.model_selection import train_test_split\n",
    "from sklearn.linear_model import LogisticRegression\n",
    "from sklearn.metrics import accuracy_score, confusion_matrix, roc_curve, roc_auc_score\n",
    "from sklearn.metrics import classification_report,mean_squared_error\n",
    "from sklearn.model_selection import GridSearchCV"
   ]
  },
  {
   "cell_type": "code",
   "execution_count": 105,
   "id": "7935a977",
   "metadata": {},
   "outputs": [],
   "source": [
    "x_train,x_test,y_train,y_test = train_test_split(x,y,train_size=0.80,test_size=0.20)"
   ]
  },
  {
   "cell_type": "code",
   "execution_count": 106,
   "id": "a676843e",
   "metadata": {},
   "outputs": [],
   "source": [
    "lg_model = LogisticRegression()"
   ]
  },
  {
   "cell_type": "code",
   "execution_count": 107,
   "id": "65df65db",
   "metadata": {},
   "outputs": [
    {
     "data": {
      "text/plain": [
       "LogisticRegression()"
      ]
     },
     "execution_count": 107,
     "metadata": {},
     "output_type": "execute_result"
    }
   ],
   "source": [
    "lg_model.fit(x_train,y_train)"
   ]
  },
  {
   "cell_type": "code",
   "execution_count": 108,
   "id": "7394872f",
   "metadata": {},
   "outputs": [],
   "source": [
    "y_pred = lg_model.predict(x_test)"
   ]
  },
  {
   "cell_type": "code",
   "execution_count": 109,
   "id": "f55a5199",
   "metadata": {},
   "outputs": [
    {
     "data": {
      "text/plain": [
       "array([1, 0, 0, ..., 0, 0, 0])"
      ]
     },
     "execution_count": 109,
     "metadata": {},
     "output_type": "execute_result"
    }
   ],
   "source": [
    "y_pred"
   ]
  },
  {
   "cell_type": "code",
   "execution_count": 110,
   "id": "492ec5c7",
   "metadata": {},
   "outputs": [
    {
     "name": "stdout",
     "output_type": "stream",
     "text": [
      "Training dataset accuracy of the model is 0.7974182642437282\n",
      "Test dataset accuracy of the model is 0.7973263675476336\n"
     ]
    }
   ],
   "source": [
    "acc = lg_model.score(x_train,y_train)\n",
    "acc1 = lg_model.score(x_test,y_test)\n",
    "print(f'Training dataset accuracy of the model is {acc}')\n",
    "print(f'Test dataset accuracy of the model is {acc1}')"
   ]
  },
  {
   "cell_type": "code",
   "execution_count": 111,
   "id": "556e5297",
   "metadata": {},
   "outputs": [],
   "source": [
    "from sklearn.metrics import confusion_matrix, precision_score, recall_score, accuracy_score, f1_score"
   ]
  },
  {
   "cell_type": "code",
   "execution_count": 112,
   "id": "d94d1646",
   "metadata": {},
   "outputs": [
    {
     "data": {
      "text/html": [
       "<div>\n",
       "<style scoped>\n",
       "    .dataframe tbody tr th:only-of-type {\n",
       "        vertical-align: middle;\n",
       "    }\n",
       "\n",
       "    .dataframe tbody tr th {\n",
       "        vertical-align: top;\n",
       "    }\n",
       "\n",
       "    .dataframe thead th {\n",
       "        text-align: right;\n",
       "    }\n",
       "</style>\n",
       "<table border=\"1\" class=\"dataframe\">\n",
       "  <thead>\n",
       "    <tr style=\"text-align: right;\">\n",
       "      <th></th>\n",
       "      <th>0</th>\n",
       "      <th>1</th>\n",
       "    </tr>\n",
       "  </thead>\n",
       "  <tbody>\n",
       "    <tr>\n",
       "      <th>0</th>\n",
       "      <td>4783</td>\n",
       "      <td>131</td>\n",
       "    </tr>\n",
       "    <tr>\n",
       "      <th>1</th>\n",
       "      <td>1188</td>\n",
       "      <td>406</td>\n",
       "    </tr>\n",
       "  </tbody>\n",
       "</table>\n",
       "</div>"
      ],
      "text/plain": [
       "      0    1\n",
       "0  4783  131\n",
       "1  1188  406"
      ]
     },
     "execution_count": 112,
     "metadata": {},
     "output_type": "execute_result"
    }
   ],
   "source": [
    "pd.DataFrame(confusion_matrix(y_pred=y_pred, y_true=y_test))"
   ]
  },
  {
   "cell_type": "code",
   "execution_count": 113,
   "id": "b3460bc1",
   "metadata": {},
   "outputs": [
    {
     "data": {
      "text/plain": [
       "<AxesSubplot:>"
      ]
     },
     "execution_count": 113,
     "metadata": {},
     "output_type": "execute_result"
    },
    {
     "data": {
      "image/png": "[encoded data removed]",
      "text/plain": [
       "<Figure size 432x288 with 2 Axes>"
      ]
     },
     "metadata": {
      "needs_background": "light"
     },
     "output_type": "display_data"
    }
   ],
   "source": [
    "sns.heatmap(confusion_matrix(y_pred=y_pred, y_true=y_test),annot=True)"
   ]
  },
  {
   "cell_type": "code",
   "execution_count": 114,
   "id": "4dd79394",
   "metadata": {},
   "outputs": [
    {
     "name": "stdout",
     "output_type": "stream",
     "text": [
      "recall : 0.2547051442910916\n",
      "precision : 0.7560521415270018\n",
      "F1 : 0.3810417644298451\n",
      "accuracy : 0.7973263675476336\n"
     ]
    }
   ],
   "source": [
    "print('recall :', recall_score(y_test, y_pred))\n",
    "print('precision :', precision_score(y_test, y_pred))\n",
    "print('F1 :', f1_score(y_test, y_pred))\n",
    "print('accuracy :', accuracy_score(y_test, y_pred))"
   ]
  },
  {
   "cell_type": "code",
   "execution_count": 115,
   "id": "2021c7e0",
   "metadata": {},
   "outputs": [
    {
     "data": {
      "text/plain": [
       "0.6140233088162824"
      ]
     },
     "execution_count": 115,
     "metadata": {},
     "output_type": "execute_result"
    }
   ],
   "source": [
    "auc = roc_auc_score(y_test, y_pred)\n",
    "auc"
   ]
  },
  {
   "cell_type": "code",
   "execution_count": 116,
   "id": "baa6098c",
   "metadata": {
    "scrolled": false
   },
   "outputs": [
    {
     "name": "stdout",
     "output_type": "stream",
     "text": [
      "              precision    recall  f1-score   support\n",
      "\n",
      "           0       0.97      0.80      0.88      5971\n",
      "           1       0.25      0.76      0.38       537\n",
      "\n",
      "    accuracy                           0.80      6508\n",
      "   macro avg       0.61      0.78      0.63      6508\n",
      "weighted avg       0.91      0.80      0.84      6508\n",
      "\n",
      "[[4783 1188]\n",
      " [ 131  406]]\n",
      "\n",
      "Accuracy Score for model1:  0.7973263675476336\n"
     ]
    }
   ],
   "source": [
    "print(classification_report(y_pred, y_test))\n",
    "print(confusion_matrix(y_pred, y_test))\n",
    "print('\\nAccuracy Score for model1: ', accuracy_score(y_pred,y_test))"
   ]
  },
  {
   "cell_type": "code",
   "execution_count": 117,
   "id": "e2d53c81",
   "metadata": {},
   "outputs": [],
   "source": [
    "from sklearn import svm"
   ]
  },
  {
   "cell_type": "code",
   "execution_count": 118,
   "id": "23c638b5",
   "metadata": {},
   "outputs": [],
   "source": [
    "clf = svm.SVC()"
   ]
  },
  {
   "cell_type": "code",
   "execution_count": 119,
   "id": "74e0f99d",
   "metadata": {},
   "outputs": [
    {
     "data": {
      "text/plain": [
       "SVC()"
      ]
     },
     "execution_count": 119,
     "metadata": {},
     "output_type": "execute_result"
    }
   ],
   "source": [
    "clf.fit(x_train,y_train)"
   ]
  },
  {
   "cell_type": "code",
   "execution_count": 120,
   "id": "f5cdd7e6",
   "metadata": {},
   "outputs": [],
   "source": [
    "y_pred1 = clf.predict(x_test)"
   ]
  },
  {
   "cell_type": "code",
   "execution_count": 121,
   "id": "360a231b",
   "metadata": {},
   "outputs": [
    {
     "data": {
      "text/plain": [
       "array([0, 0, 0, ..., 0, 0, 0])"
      ]
     },
     "execution_count": 121,
     "metadata": {},
     "output_type": "execute_result"
    }
   ],
   "source": [
    "y_pred1"
   ]
  },
  {
   "cell_type": "code",
   "execution_count": 122,
   "id": "f5aab0cb",
   "metadata": {},
   "outputs": [
    {
     "data": {
      "text/plain": [
       "0.7961888662645511"
      ]
     },
     "execution_count": 122,
     "metadata": {},
     "output_type": "execute_result"
    }
   ],
   "source": [
    "acc1 = clf.score(x_train,y_train)\n",
    "acc1"
   ]
  },
  {
   "cell_type": "code",
   "execution_count": 123,
   "id": "16a0d890",
   "metadata": {},
   "outputs": [
    {
     "name": "stdout",
     "output_type": "stream",
     "text": [
      "Training dataset accuracy of the model is 0.7961888662645511\n",
      "Test dataset accuracy of the model is 0.7908727719729564\n"
     ]
    }
   ],
   "source": [
    "acc2 = clf.score(x_train,y_train)\n",
    "acc3 = clf.score(x_test,y_test)\n",
    "print(f'Training dataset accuracy of the model is {acc2}')\n",
    "print(f'Test dataset accuracy of the model is {acc3}')"
   ]
  },
  {
   "cell_type": "code",
   "execution_count": 124,
   "id": "e876276c",
   "metadata": {},
   "outputs": [
    {
     "data": {
      "text/plain": [
       "GaussianNB()"
      ]
     },
     "execution_count": 124,
     "metadata": {},
     "output_type": "execute_result"
    }
   ],
   "source": [
    "from sklearn.naive_bayes import GaussianNB\n",
    "nb = GaussianNB()\n",
    "nb.fit(x_train, y_train)"
   ]
  },
  {
   "cell_type": "code",
   "execution_count": 125,
   "id": "0e328b87",
   "metadata": {},
   "outputs": [
    {
     "name": "stdout",
     "output_type": "stream",
     "text": [
      "Naive Bayes score:  0.7959583541434554\n",
      "Naive Bayes score:  0.791641057160418\n"
     ]
    }
   ],
   "source": [
    "print(\"Naive Bayes score: \",nb.score(x_train, y_train))\n",
    "print(\"Naive Bayes score: \",nb.score(x_test, y_test))"
   ]
  },
  {
   "cell_type": "code",
   "execution_count": 126,
   "id": "59cf4235",
   "metadata": {},
   "outputs": [
    {
     "data": {
      "text/plain": [
       "KNeighborsClassifier()"
      ]
     },
     "execution_count": 126,
     "metadata": {},
     "output_type": "execute_result"
    }
   ],
   "source": [
    "from sklearn.neighbors import KNeighborsClassifier\n",
    "classifier = KNeighborsClassifier(n_neighbors = 5, metric = 'minkowski', p = 2)\n",
    "classifier.fit(x_train, y_train)"
   ]
  },
  {
   "cell_type": "code",
   "execution_count": 127,
   "id": "a0cb3444",
   "metadata": {},
   "outputs": [
    {
     "data": {
      "text/plain": [
       "array([1, 0, 0, ..., 1, 0, 0])"
      ]
     },
     "execution_count": 127,
     "metadata": {},
     "output_type": "execute_result"
    }
   ],
   "source": [
    "y_pred = classifier.predict(x_test)\n",
    "y_pred"
   ]
  },
  {
   "cell_type": "code",
   "execution_count": 128,
   "id": "68c8785d",
   "metadata": {},
   "outputs": [
    {
     "data": {
      "text/plain": [
       "array([[4523,  391],\n",
       "       [1097,  497]])"
      ]
     },
     "execution_count": 128,
     "metadata": {},
     "output_type": "execute_result"
    }
   ],
   "source": [
    "cm = confusion_matrix(y_test, y_pred)\n",
    "cm"
   ]
  },
  {
   "cell_type": "code",
   "execution_count": 129,
   "id": "1495ede2",
   "metadata": {},
   "outputs": [
    {
     "data": {
      "text/plain": [
       "0.7713583282114321"
      ]
     },
     "execution_count": 129,
     "metadata": {},
     "output_type": "execute_result"
    }
   ],
   "source": [
    "ac = accuracy_score(y_test,y_pred)\n",
    "ac"
   ]
  },
  {
   "cell_type": "code",
   "execution_count": 130,
   "id": "45851368",
   "metadata": {},
   "outputs": [
    {
     "name": "stdout",
     "output_type": "stream",
     "text": [
      "K-Nearest Neighbour score:  0.8364132313957509\n",
      "K-Nearest Neighbour score:  0.7713583282114321\n"
     ]
    }
   ],
   "source": [
    "print(\"K-Nearest Neighbour score: \",classifier.score(x_train,y_train))\n",
    "print(\"K-Nearest Neighbour score: \",classifier.score(x_test,y_test))"
   ]
  },
  {
   "cell_type": "code",
   "execution_count": 131,
   "id": "121e179d",
   "metadata": {},
   "outputs": [],
   "source": [
    "from sklearn.tree import DecisionTreeClassifier"
   ]
  },
  {
   "cell_type": "code",
   "execution_count": 132,
   "id": "3585fddf",
   "metadata": {},
   "outputs": [],
   "source": [
    "dt_model = DecisionTreeClassifier()"
   ]
  },
  {
   "cell_type": "code",
   "execution_count": 133,
   "id": "78d7c0cf",
   "metadata": {},
   "outputs": [
    {
     "data": {
      "text/plain": [
       "DecisionTreeClassifier()"
      ]
     },
     "execution_count": 133,
     "metadata": {},
     "output_type": "execute_result"
    }
   ],
   "source": [
    "dt_model.fit(x_train,y_train)"
   ]
  },
  {
   "cell_type": "code",
   "execution_count": 134,
   "id": "f70aab30",
   "metadata": {},
   "outputs": [
    {
     "data": {
      "text/plain": [
       "array([0, 0, 0, ..., 0, 0, 0])"
      ]
     },
     "execution_count": 134,
     "metadata": {},
     "output_type": "execute_result"
    }
   ],
   "source": [
    "dt_model.predict(x_test)"
   ]
  },
  {
   "cell_type": "code",
   "execution_count": 135,
   "id": "9b7bf2c1",
   "metadata": {},
   "outputs": [
    {
     "name": "stdout",
     "output_type": "stream",
     "text": [
      "DecisionTreeClassifier score:  1.0\n",
      "DecisionTreeClassifier score:  0.8159188690842041\n"
     ]
    }
   ],
   "source": [
    "print(\"DecisionTreeClassifier score: \",dt_model.score(x_train,y_train))\n",
    "print(\"DecisionTreeClassifier score: \",dt_model.score(x_test,y_test))"
   ]
  },
  {
   "cell_type": "code",
   "execution_count": 155,
   "id": "e1a3a2b9",
   "metadata": {},
   "outputs": [],
   "source": [
    "param_grid = {'max_depth': np.arange(3, 10),\n",
    "             'criterion' : ['gini','entropy'],\n",
    "             'max_leaf_nodes': [5,10,20,100],\n",
    "             'min_samples_split': [2, 5, 10, 20,30,40]}\n",
    "grid_tree = GridSearchCV(DecisionTreeClassifier(), param_grid, cv = 5, scoring= 'accuracy')"
   ]
  },
  {
   "cell_type": "code",
   "execution_count": 156,
   "id": "b91e315d",
   "metadata": {},
   "outputs": [
    {
     "data": {
      "text/plain": [
       "GridSearchCV(cv=5, estimator=DecisionTreeClassifier(),\n",
       "             param_grid={'criterion': ['gini', 'entropy'],\n",
       "                         'max_depth': array([3, 4, 5, 6, 7, 8, 9]),\n",
       "                         'max_leaf_nodes': [5, 10, 20, 100],\n",
       "                         'min_samples_split': [2, 5, 10, 20, 30, 40]},\n",
       "             scoring='accuracy')"
      ]
     },
     "execution_count": 156,
     "metadata": {},
     "output_type": "execute_result"
    }
   ],
   "source": [
    "grid_tree"
   ]
  },
  {
   "cell_type": "code",
   "execution_count": 157,
   "id": "b1100a28",
   "metadata": {},
   "outputs": [
    {
     "data": {
      "text/plain": [
       "GridSearchCV(cv=5, estimator=DecisionTreeClassifier(),\n",
       "             param_grid={'criterion': ['gini', 'entropy'],\n",
       "                         'max_depth': array([3, 4, 5, 6, 7, 8, 9]),\n",
       "                         'max_leaf_nodes': [5, 10, 20, 100],\n",
       "                         'min_samples_split': [2, 5, 10, 20, 30, 40]},\n",
       "             scoring='accuracy')"
      ]
     },
     "execution_count": 157,
     "metadata": {},
     "output_type": "execute_result"
    }
   ],
   "source": [
    "grid_tree.fit(x_train,y_train)"
   ]
  },
  {
   "cell_type": "code",
   "execution_count": 158,
   "id": "da4d34aa",
   "metadata": {},
   "outputs": [
    {
     "name": "stdout",
     "output_type": "stream",
     "text": [
      "DecisionTreeClassifier(max_depth=8, max_leaf_nodes=100, min_samples_split=10)\n"
     ]
    }
   ],
   "source": [
    "print(grid_tree.best_estimator_)"
   ]
  },
  {
   "cell_type": "code",
   "execution_count": 159,
   "id": "bb22f115",
   "metadata": {},
   "outputs": [
    {
     "name": "stdout",
     "output_type": "stream",
     "text": [
      "0.8572744815613994\n"
     ]
    }
   ],
   "source": [
    "print(np.abs(grid_tree.best_score_))"
   ]
  },
  {
   "cell_type": "code",
   "execution_count": 160,
   "id": "32c81c4c",
   "metadata": {},
   "outputs": [
    {
     "data": {
      "text/plain": [
       "array([0, 0, 0, ..., 0, 0, 1])"
      ]
     },
     "execution_count": 160,
     "metadata": {},
     "output_type": "execute_result"
    }
   ],
   "source": [
    "dt_model1 = DecisionTreeClassifier(max_depth=8, max_leaf_nodes=100, min_samples_split=10)\n",
    "dt_model1.fit(x_train,y_train)\n",
    "dtpred = dt_model1.predict(x_test)\n",
    "dtpred"
   ]
  },
  {
   "cell_type": "code",
   "execution_count": 161,
   "id": "1a568bd5",
   "metadata": {},
   "outputs": [
    {
     "data": {
      "text/plain": [
       "0.8619616581505244"
      ]
     },
     "execution_count": 161,
     "metadata": {},
     "output_type": "execute_result"
    }
   ],
   "source": [
    "dt_model1.score(x_train,y_train)"
   ]
  },
  {
   "cell_type": "code",
   "execution_count": 162,
   "id": "10a56e22",
   "metadata": {},
   "outputs": [
    {
     "data": {
      "text/plain": [
       "0.8480331899200984"
      ]
     },
     "execution_count": 162,
     "metadata": {},
     "output_type": "execute_result"
    }
   ],
   "source": [
    "accuracy_score(y_test,dtpred)"
   ]
  },
  {
   "cell_type": "code",
   "execution_count": 163,
   "id": "87d5126a",
   "metadata": {},
   "outputs": [
    {
     "data": {
      "text/plain": [
       "0.8619616581505244"
      ]
     },
     "execution_count": 163,
     "metadata": {},
     "output_type": "execute_result"
    }
   ],
   "source": [
    "dt_model1_train_score = dt_model1.score(x_train,y_train)\n",
    "dt_model1_train_score"
   ]
  },
  {
   "cell_type": "code",
   "execution_count": 164,
   "id": "94c4ca85",
   "metadata": {},
   "outputs": [
    {
     "data": {
      "text/plain": [
       "0.8480331899200984"
      ]
     },
     "execution_count": 164,
     "metadata": {},
     "output_type": "execute_result"
    }
   ],
   "source": [
    "dt_model1_test_score = dt_model1.score(x_test,y_test)\n",
    "dt_model1_test_score"
   ]
  },
  {
   "cell_type": "code",
   "execution_count": 136,
   "id": "84d3001c",
   "metadata": {},
   "outputs": [],
   "source": [
    "from sklearn.ensemble import RandomForestClassifier"
   ]
  },
  {
   "cell_type": "code",
   "execution_count": 137,
   "id": "0d4a1d8c",
   "metadata": {},
   "outputs": [],
   "source": [
    "rf_model = RandomForestClassifier()"
   ]
  },
  {
   "cell_type": "code",
   "execution_count": 138,
   "id": "e18b1dce",
   "metadata": {},
   "outputs": [
    {
     "data": {
      "text/plain": [
       "RandomForestClassifier()"
      ]
     },
     "execution_count": 138,
     "metadata": {},
     "output_type": "execute_result"
    }
   ],
   "source": [
    "rf_model.fit(x_train,y_train)"
   ]
  },
  {
   "cell_type": "code",
   "execution_count": 139,
   "id": "20db1bca",
   "metadata": {},
   "outputs": [
    {
     "data": {
      "text/plain": [
       "array([0, 0, 0, ..., 0, 0, 0])"
      ]
     },
     "execution_count": 139,
     "metadata": {},
     "output_type": "execute_result"
    }
   ],
   "source": [
    "rf_model.predict(x_test)"
   ]
  },
  {
   "cell_type": "code",
   "execution_count": 140,
   "id": "09547055",
   "metadata": {},
   "outputs": [
    {
     "name": "stdout",
     "output_type": "stream",
     "text": [
      "RandomForestClassifier score:  1.0\n",
      "RandomForestClassifier score:  0.8537185003073141\n"
     ]
    }
   ],
   "source": [
    "print(\"RandomForestClassifier score: \",rf_model.score(x_train,y_train))\n",
    "print(\"RandomForestClassifier score: \",rf_model.score(x_test,y_test))"
   ]
  },
  {
   "cell_type": "code",
   "execution_count": 141,
   "id": "b9857a04",
   "metadata": {},
   "outputs": [],
   "source": [
    "param_grid1 = {'max_depth' : range(2,4,1),\n",
    "               'criterion' : ['gini','entropy'],\n",
    "               'max_features' : ['auto','log2'],\n",
    "               'n_estimators' : [10,50,100,150,200]\n",
    "              }"
   ]
  },
  {
   "cell_type": "code",
   "execution_count": 144,
   "id": "fc875a43",
   "metadata": {},
   "outputs": [],
   "source": [
    "rf_grid_tree = GridSearchCV(RandomForestClassifier(), param_grid1, cv = 5, scoring= 'accuracy')"
   ]
  },
  {
   "cell_type": "code",
   "execution_count": 145,
   "id": "b265ac12",
   "metadata": {},
   "outputs": [
    {
     "data": {
      "text/plain": [
       "GridSearchCV(cv=5, estimator=RandomForestClassifier(),\n",
       "             param_grid={'criterion': ['gini', 'entropy'],\n",
       "                         'max_depth': range(2, 4),\n",
       "                         'max_features': ['auto', 'log2'],\n",
       "                         'n_estimators': [10, 50, 100, 150, 200]},\n",
       "             scoring='accuracy')"
      ]
     },
     "execution_count": 145,
     "metadata": {},
     "output_type": "execute_result"
    }
   ],
   "source": [
    "rf_grid_tree"
   ]
  },
  {
   "cell_type": "code",
   "execution_count": 146,
   "id": "297f8884",
   "metadata": {},
   "outputs": [
    {
     "data": {
      "text/plain": [
       "GridSearchCV(cv=5, estimator=RandomForestClassifier(),\n",
       "             param_grid={'criterion': ['gini', 'entropy'],\n",
       "                         'max_depth': range(2, 4),\n",
       "                         'max_features': ['auto', 'log2'],\n",
       "                         'n_estimators': [10, 50, 100, 150, 200]},\n",
       "             scoring='accuracy')"
      ]
     },
     "execution_count": 146,
     "metadata": {},
     "output_type": "execute_result"
    }
   ],
   "source": [
    "rf_grid_tree.fit(x_train,y_train)"
   ]
  },
  {
   "cell_type": "code",
   "execution_count": 147,
   "id": "e0c537a6",
   "metadata": {},
   "outputs": [
    {
     "name": "stdout",
     "output_type": "stream",
     "text": [
      "RandomForestClassifier(criterion='entropy', max_depth=3, max_features='log2',\n",
      "                       n_estimators=10)\n"
     ]
    }
   ],
   "source": [
    "print(rf_grid_tree.best_estimator_)"
   ]
  },
  {
   "cell_type": "code",
   "execution_count": 148,
   "id": "a882649d",
   "metadata": {},
   "outputs": [],
   "source": [
    "rf_best_model = RandomForestClassifier(criterion='entropy', max_depth=3, max_features='log2',\n",
    "                       n_estimators=10)"
   ]
  },
  {
   "cell_type": "code",
   "execution_count": 149,
   "id": "45c63507",
   "metadata": {},
   "outputs": [
    {
     "data": {
      "text/plain": [
       "RandomForestClassifier(criterion='entropy', max_depth=3, max_features='log2',\n",
       "                       n_estimators=10)"
      ]
     },
     "execution_count": 149,
     "metadata": {},
     "output_type": "execute_result"
    }
   ],
   "source": [
    "rf_best_model.fit(x_train,y_train)"
   ]
  },
  {
   "cell_type": "code",
   "execution_count": 150,
   "id": "59571e4d",
   "metadata": {},
   "outputs": [
    {
     "data": {
      "text/plain": [
       "array([0, 0, 0, ..., 0, 0, 0])"
      ]
     },
     "execution_count": 150,
     "metadata": {},
     "output_type": "execute_result"
    }
   ],
   "source": [
    "rf_best_model.predict(x_test)"
   ]
  },
  {
   "cell_type": "code",
   "execution_count": 152,
   "id": "09d2f2c9",
   "metadata": {},
   "outputs": [
    {
     "name": "stdout",
     "output_type": "stream",
     "text": [
      "0.8238500983310839\n"
     ]
    }
   ],
   "source": [
    "print(np.abs(rf_grid_tree.best_score_))"
   ]
  },
  {
   "cell_type": "code",
   "execution_count": 153,
   "id": "64680845",
   "metadata": {},
   "outputs": [
    {
     "data": {
      "text/plain": [
       "0.8169349571631641"
      ]
     },
     "execution_count": 153,
     "metadata": {},
     "output_type": "execute_result"
    }
   ],
   "source": [
    "rf_best_model_train_score = rf_best_model.score(x_train,y_train)\n",
    "rf_best_model_train_score"
   ]
  },
  {
   "cell_type": "code",
   "execution_count": 154,
   "id": "22d67efe",
   "metadata": {},
   "outputs": [
    {
     "data": {
      "text/plain": [
       "0.810540872771973"
      ]
     },
     "execution_count": 154,
     "metadata": {},
     "output_type": "execute_result"
    }
   ],
   "source": [
    "rf_best_model_test_score = rf_best_model.score(x_test,y_test)\n",
    "rf_best_model_test_score"
   ]
  },
  {
   "cell_type": "code",
   "execution_count": 165,
   "id": "a9348404",
   "metadata": {},
   "outputs": [],
   "source": [
    "import pickle"
   ]
  },
  {
   "cell_type": "code",
   "execution_count": null,
   "id": "d7ca0e3a",
   "metadata": {},
   "outputs": [],
   "source": [
    "filename = 'lg_model.sav'\n",
    "pickle.dump(lg_model,open(filename,'wb'))\n",
    "filename1 = 'svm_model.sav'\n",
    "pickle.dump(clf,open(filename1,'wb'))\n",
    "filename2 = 'knn_model.sav'\n",
    "pickle.dump(classifier,open(filename2,'wb'))\n",
    "filename3 = 'naive_bayes_model.sav'\n",
    "pickle.dump(nb,open(filename3,'wb'))\n",
    "filename4 = 'dt_model.sav'\n",
    "pickle.dump(dt_model1,open(filename4,'wb'))\n",
    "filename5 = 'rf_model."
   ]
  },
  {
   "cell_type": "code",
   "execution_count": null,
   "id": "e4312ed5",
   "metadata": {},
   "outputs": [],
   "source": []
  }
 ],
 "metadata": {
  "kernelspec": {
   "display_name": "Python 3 (ipykernel)",
   "language": "python",
   "name": "python3"
  },
  "language_info": {
   "codemirror_mode": {
    "name": "ipython",
    "version": 3
   },
   "file_extension": ".py",
   "mimetype": "text/x-python",
   "name": "python",
   "nbconvert_exporter": "python",
   "pygments_lexer": "ipython3",
   "version": "3.9.12"
  }
 },
 "nbformat": 4,
 "nbformat_minor": 5
}
